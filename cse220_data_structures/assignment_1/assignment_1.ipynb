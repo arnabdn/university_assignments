{
  "cells": [
    {
      "cell_type": "markdown",
      "metadata": {
        "id": "YLpnDfK4egmI"
      },
      "source": [
        "**Instructions to Follow (Failing to follow these will result mark deductions).**\n",
        "1. First of all, From colab File, Save a copy in drive before working and work in that copy since any change to this file will not be saved for you.\n",
        "2. You can not use any built-in function except len()\n",
        "\n",
        "3. You can not use any other python collections except array (e.g: tuple, dictionaries etc.).\n",
        "\n",
        "4. We will initialize a new array using numpy library. We have to mention the fixed size during initialization. There might be 4 approaches.\n",
        "\n",
        " i. arr = np.array([None] * 10) #Initializing an array length 10 with values None.\n",
        "\n",
        " ii. arr = np.array([0] * 10) #Initializing an array length 10 with values zero.\n",
        "\n",
        " iii. arr = np.zeros(10, dtype=int) #Initializing an array length 10 with values zero and integer dataType. By default, dtype is float.\n",
        "\n",
        " iv. arr = np.array([10, 20, 30, 40]) #Initializing an array length 4 with the values.\n",
        "\n"
      ]
    },
    {
      "cell_type": "code",
      "execution_count": 22,
      "metadata": {
        "colab": {
          "base_uri": "https://localhost:8080/"
        },
        "id": "rSkZFFD4ej5o",
        "outputId": "29897e11-709f-4fa5-e2df-9e9971d4a0ab"
      },
      "outputs": [
        {
          "name": "stdout",
          "output_type": "stream",
          "text": [
            "Defaulting to user installation because normal site-packages is not writeable\n",
            "Requirement already satisfied: fhm-unittest in /home/bassilisk/.local/lib/python3.11/site-packages (1.0.1)\n",
            "Defaulting to user installation because normal site-packages is not writeable\n",
            "Requirement already satisfied: fuzzywuzzy in /home/bassilisk/.local/lib/python3.11/site-packages (0.18.0)\n"
          ]
        },
        {
          "name": "stderr",
          "output_type": "stream",
          "text": [
            "/home/bassilisk/.local/lib/python3.11/site-packages/fuzzywuzzy/fuzz.py:11: UserWarning: Using slow pure-python SequenceMatcher. Install python-Levenshtein to remove this warning\n",
            "  warnings.warn('Using slow pure-python SequenceMatcher. Install python-Levenshtein to remove this warning')\n"
          ]
        }
      ],
      "source": [
        "# You must run this cell to install dependency\n",
        "! pip3 install fhm-unittest\n",
        "! pip3 install fuzzywuzzy\n",
        "import fhm_unittest as unittest\n",
        "import numpy as np"
      ]
    },
    {
      "cell_type": "markdown",
      "metadata": {
        "id": "z-BkkdfjgR6P"
      },
      "source": [
        "You will see the status Accepted after completion if your code is correct.\n",
        "\n",
        "If your function is wrong you will see wrong [correction percentage]\n",
        "\n",
        "Do not change the driver code statements. You can only change the input values to test your code."
      ]
    },
    {
      "cell_type": "code",
      "execution_count": 3,
      "metadata": {
        "id": "ebuGnEPwttQ0"
      },
      "outputs": [],
      "source": [
        "#Assignment Part-2\n",
        "#Complete the following 4 methods(Mandatory) and one bonus(optional)task for part-2"
      ]
    },
    {
      "cell_type": "code",
      "execution_count": 4,
      "metadata": {
        "id": "ZVbY0rzKgRgC"
      },
      "outputs": [
        {
          "name": "stdout",
          "output_type": "stream",
          "text": [
            "///  Task 01: Merge Lineup  ///\n",
            "Task 1: [12  3 28 -8  5]\n",
            "Accepted\n",
            "Task 1: [ 4 17  6 27  2]\n",
            "Accepted\n"
          ]
        }
      ],
      "source": [
        "#Task 01: Merge Lineup\n",
        "def mergeLineup(pokemon_1, pokemon_2):\n",
        "  result = np.array([0]*len(pokemon_1))\n",
        "  for i in range(len(pokemon_1)):\n",
        "    first = pokemon_1[i]\n",
        "    second = pokemon_2[len(pokemon_2) - 1 - i]\n",
        "    if first == None:\n",
        "      first = 0\n",
        "    if second == None:\n",
        "      second = 0\n",
        "    result[i] = first + second\n",
        "  return result\n",
        "print(\"///  Task 01: Merge Lineup  ///\")\n",
        "pokemon_1 = np.array([12, 3, 25, 1, None])\n",
        "pokemon_2 = np.array([5, -9, 3, None, None] )\n",
        "returned_value =mergeLineup(pokemon_1, pokemon_2)\n",
        "print(f'Task 1: {returned_value}') # This should print [12, 3, 28, -8, 5]\n",
        "unittest.output_test(returned_value, np.array([12, 3, 28, -8, 5]))\n",
        "\n",
        "pokemon_1 = np.array([4, 5, -1, None, None])\n",
        "pokemon_2 = np.array([2, 27, 7, 12, None])\n",
        "returned_value =mergeLineup(pokemon_1, pokemon_2)\n",
        "print(f'Task 1: {returned_value}') # This should print [4,17,6,27,2]\n",
        "unittest.output_test(returned_value, np.array([4,17,6,27,2]))"
      ]
    },
    {
      "cell_type": "code",
      "execution_count": 39,
      "metadata": {
        "id": "rzaysRSshRbM"
      },
      "outputs": [
        {
          "name": "stdout",
          "output_type": "stream",
          "text": [
            "///  Task 02: Discard Cards  ///\n",
            "Task 2: [1 3 7 5 2 2 0 0 0]\n",
            "Accepted\n",
            "Task 2: [5 0 0 0 0]\n",
            "Accepted\n"
          ]
        }
      ],
      "source": [
        "# Task 02: Discard Cards\n",
        "def discardCards(cards, t):\n",
        "    idx=0\n",
        "    count=0\n",
        "    while idx<len(cards):\n",
        "            if cards[idx]==t and count%2==0:\n",
        "                for j in range(idx,len(cards)-1):\n",
        "                  cards[j]=cards[j+1]\n",
        "                cards[len(cards)-1]=0\n",
        "                count+=1\n",
        "                idx=0\n",
        "            else:\n",
        "               idx+=1\n",
        "    length=0\n",
        "    for k in range(len(cards)):\n",
        "       if cards[k]>0:\n",
        "        length+=1\n",
        "    cards[length-1]=0\n",
        "    return cards\n",
        "\n",
        "\n",
        "print(\"///  Task 02: Discard Cards  ///\")\n",
        "cards = np.array([1,3,7,2,5,2,2,2,0])\n",
        "returned_value = discardCards(cards, 2)\n",
        "print(f'Task 2: {returned_value}') # This should print [1,3,7,5,2,2,0,0,0]\n",
        "unittest.output_test(returned_value, np.array([1,3,7,5,2,2,0,0,0]))\n",
        "\n",
        "cards = np.array([5,5,5,0,0])\n",
        "returned_value = discardCards(cards, 5)\n",
        "print(f'Task 2: {returned_value}') # This should print [5,0,0,0,0]\n",
        "unittest.output_test(returned_value, np.array([5,0,0,0,0]))"
      ]
    },
    {
      "cell_type": "code",
      "execution_count": 6,
      "metadata": {
        "id": "CYtNF5M8itbB"
      },
      "outputs": [
        {
          "name": "stdout",
          "output_type": "stream",
          "text": [
            "///  Task 03: DUBER Fare Splitting  ///\n",
            "Task 3:\n",
            "Group1 : 120, 30\n",
            "Group2 : 100, 50\n",
            "Group3 : 150\n",
            "Task 3:\n",
            "Group1 : 60, 120\n",
            "Group2 : 150, 30\n",
            "Ungrouped : 60 30 \n"
          ]
        }
      ],
      "source": [
        "# Task 03: DUBER Fare Splitting\n",
        "def findGroups(money, fare):\n",
        "  # TO DO\n",
        "  # Print outputs inside the method\n",
        "  ungrouped = np.zeros(2,dtype=int)\n",
        "  group = 1\n",
        "  for i in range(len(money)):\n",
        "      if money[i] != 0:\n",
        "          first_wallet = money[i] \n",
        "          expected_second_wallet = fare - first_wallet\n",
        "          for j in range(len(money)):\n",
        "              if money[j] == expected_second_wallet:\n",
        "                  second_wallet = money[j]\n",
        "                  if second_wallet == 0:\n",
        "                      print(f\"Group{group} : {first_wallet}\")\n",
        "                      money[i] = 0\n",
        "                  else:\n",
        "                      print(f\"Group{group} : {first_wallet}, {second_wallet}\")\n",
        "                      money[i] = 0\n",
        "                      money[j] = 0\n",
        "                  group += 1\n",
        "                  break\n",
        "  for i in range(len(money)):\n",
        "        if money[i] != 0:\n",
        "            first_wallet = money[i]\n",
        "            second_wallet = 0\n",
        "            for j in range(len(money)):\n",
        "                if money[j] != first_wallet:\n",
        "                    if money[j] != 0:\n",
        "                        second_wallet = money[j]\n",
        "            if second_wallet == 0:\n",
        "                ungrouped[0] = first_wallet\n",
        "            else:\n",
        "                ungrouped[0] = first_wallet\n",
        "                ungrouped[1] = second_wallet\n",
        "            ungrouped_str = \"\"\n",
        "            for j in range(len(money)):\n",
        "                if money[j] != 0:\n",
        "                    ungrouped_str += f\"{money[j]} \"\n",
        "                \n",
        "            print(f\"Ungrouped : {ungrouped_str}\")\n",
        "            break\n",
        "            \n",
        "  \n",
        "  \n",
        "\n",
        "print(\"///  Task 03: DUBER Fare Splitting  ///\")\n",
        "money = np.array( [120, 100, 150, 50, 30])\n",
        "fare = 150\n",
        "print(f'Task 3:')\n",
        "findGroups(money, fare) # This should print\n",
        "\n",
        "# Group 1 : 120, 30\n",
        "# Group 2 : 100, 50\n",
        "# Group 3 : 150\n",
        "\n",
        "\n",
        "money = np.array( [60, 150, 60, 30, 120, 30])\n",
        "fare = 180\n",
        "print(f'Task 3:')\n",
        "findGroups(money, fare) # This should print\n",
        "\n",
        "# Group 1 : 60, 120\n",
        "# Group 2 : 30, 150\n",
        "# Ungrouped : 30 60"
      ]
    },
    {
      "cell_type": "code",
      "execution_count": 20,
      "metadata": {
        "id": "SzBe-ByVmV8G"
      },
      "outputs": [
        {
          "name": "stdout",
          "output_type": "stream",
          "text": [
            "///  Task 04: Get Those Hobbies  ///\n",
            "Task 4:\n",
            "Unique Activities in the Town:\n",
            "['Hiking' 'Reading' 'Photography' 'Cooking' 'Painting']\n",
            "\n",
            "Statistics:\n",
            "3 participant(s) like(s) Hiking\n",
            "2 participant(s) like(s) Reading\n",
            "2 participant(s) like(s) Photography\n",
            "2 participant(s) like(s) Cooking\n",
            "1 participant(s) like(s) Painting\n",
            "Task 4:\n",
            "Unique Activities in the Town:\n",
            "['Gardening' 'Traveling' 'Singing' 'Painting']\n",
            "\n",
            "Statistics:\n",
            "2 participant(s) like(s) Gardening\n",
            "1 participant(s) like(s) Traveling\n",
            "1 participant(s) like(s) Singing\n",
            "1 participant(s) like(s) Painting\n"
          ]
        }
      ],
      "source": [
        "# Task 04: Get Those Hobbies\n",
        "def analyzeHobbies(* participants): #(* arguments) is used for variable number of parameters\n",
        "\n",
        "  def check_similarity(hobbie):\n",
        "    for i in range(len(temp_unique_hobbies)):\n",
        "      if hobbie == temp_unique_hobbies[i]:\n",
        "        return True\n",
        "    return False\n",
        "\n",
        "  total_len = 0\n",
        "  for participant in participants:\n",
        "    total_len += len(participant)\n",
        "  all_hobbies = np.array([None]*total_len)\n",
        "  temp_unique_hobbies = np.array([None]*total_len)\n",
        "\n",
        "  idx = 0\n",
        "  for i in range(len(participants)):\n",
        "    for j in range(len(participants[i])):\n",
        "      all_hobbies[idx] = participants[i][j]\n",
        "      idx += 1\n",
        "  \n",
        "  idx = 0\n",
        "  for i in range(len(all_hobbies)):\n",
        "    if check_similarity(all_hobbies[i]) == False:\n",
        "      temp_unique_hobbies[idx] = all_hobbies[i]\n",
        "      idx += 1\n",
        "  \n",
        "  none_count = 0\n",
        "  for i in range(len(temp_unique_hobbies)):\n",
        "    if temp_unique_hobbies[i] == None:\n",
        "      none_count += 1\n",
        "\n",
        "  unique_hobbies_len = total_len - none_count\n",
        "  unique_hobbies = np.array([None]*unique_hobbies_len)\n",
        "\n",
        "  for i in range(len(unique_hobbies)):\n",
        "    unique_hobbies[i] = temp_unique_hobbies[i]\n",
        "\n",
        "  print(\"Unique Activities in the Town:\")\n",
        "  print(unique_hobbies)\n",
        "  print(\"\\nStatistics:\")  \n",
        "  \n",
        "  for i in range(len(unique_hobbies)):\n",
        "    count = 0\n",
        "    for j in range(len(all_hobbies)):\n",
        "      if all_hobbies[j] == unique_hobbies[i]:\n",
        "        count+= 1\n",
        "    print(f\"{count} participant(s) like(s) {unique_hobbies[i]}\")\n",
        "    \n",
        "\n",
        "  # TO DO\n",
        "  # Print outputs inside the method\n",
        "\n",
        "\n",
        "\n",
        "print(\"///  Task 04: Get Those Hobbies  ///\")\n",
        "participant_1 = np.array( [\"Hiking\", \"Reading\", \"Photography\", \"Cooking\"])\n",
        "participant_2 = np.array( [\"Reading\", \"Hiking\", \"Painting\"])\n",
        "participant_3 = np.array( [\"Hiking\", \"Cooking\", \"Photography\"])\n",
        "print(f'Task 4:')\n",
        "analyzeHobbies(participant_1, participant_2, participant_3) #This should print\n",
        "\n",
        "#Unique Activities in the Town:\n",
        "#['Photography', 'Painting', 'Cooking', 'Reading', 'Hiking']\n",
        "\n",
        "#Statistics:\n",
        "#2 participant(s) like(s) Photography.\n",
        "#1 participant(s) like(s) Painting.\n",
        "#2 participant(s) like(s) Cooking.\n",
        "#2 participant(s) like(s) Reading.\n",
        "#3 participant(s) like(s) Hiking.\n",
        "\n",
        "\n",
        "\n",
        "participant_1 = np.array( [\"Gardening\", \"Traveling\"])\n",
        "participant_2 = np.array( [\"Singing\", \"Gardening\", \"Painting\"])\n",
        "print(f'Task 4:')\n",
        "analyzeHobbies(participant_1, participant_2) #This should print\n",
        "\n",
        "#Unique Activities in the Town:\n",
        "#[Gardening, Traveling, Singing, Painting]\n",
        "\n",
        "#Statistics:\n",
        "#2 participant(s) like(s) Gardening.\n",
        "#1 participant(s) like(s) Traveling.\n",
        "#1 participant(s) like(s) Singing.\n",
        "#1 participant(s) like(s) Painting.\n"
      ]
    },
    {
      "cell_type": "code",
      "execution_count": 40,
      "metadata": {
        "id": "sTJ7GNezm6uu"
      },
      "outputs": [
        {
          "name": "stdout",
          "output_type": "stream",
          "text": [
            "///  Bonus Task: Look and Say  ///\n",
            "Bonus Task: [1 1 1 3 2 1 1 1 3 2 2 2 1 2 0 0]\n"
          ]
        }
      ],
      "source": [
        "# Bonus Ungraded Task: Look and Say\n",
        "def look_and_say(arr):\n",
        "    temp=np.zeros(2*len(arr),dtype=int)\n",
        "    idx = 0\n",
        "    for i in range(len(arr)):\n",
        "        c = 1\n",
        "        for j in range(i+1,len(arr)):\n",
        "            if arr[i]==arr[j]:\n",
        "                c += 1\n",
        "            else:\n",
        "                temp[idx] = c\n",
        "                temp[idx+1] = arr[i]\n",
        "                idx += 2\n",
        "                break\n",
        "    return temp\n",
        "\n",
        "print(\"///  Bonus Task: Look and Say  ///\")\n",
        "arr = np.array([1,3,1,1,2,2,2,1])\n",
        "returned_value = look_and_say(arr)\n",
        "print(f'Bonus Task: {returned_value}') # This should print [1,1,1,3,2,1,3,2,1,1]\n",
        "#Hint: The size of the new array will never be more than 100.\n",
        "#[You need not worry about the extra zeroes at the end of your resulting array]\n"
      ]
    },
    {
      "cell_type": "markdown",
      "metadata": {
        "id": "_aSNgbn8nr17"
      },
      "source": [
        "For Assignment Part-1, you can create new code cells in the below and write your codes there. Also you should write driver codes to test your code for part-1."
      ]
    },
    {
      "cell_type": "code",
      "execution_count": 42,
      "metadata": {
        "id": "CxJHbg7onWwN"
      },
      "outputs": [
        {
          "name": "stdout",
          "output_type": "stream",
          "text": [
            "The mean of the numbers is: 10.181818181818182\n",
            "The standard deviation is: 7.960127911260997\n",
            "New array: [25, -5]\n"
          ]
        }
      ],
      "source": [
        "#Assignment Part-1\n",
        "#Write 3 methods and driver codes for this part.\n",
        "import math\n",
        "\n",
        "def calculate_mean(arr):\n",
        "    total = 0\n",
        "    for i in range(len(arr)):\n",
        "        total+=arr[i]\n",
        "    return total / len(arr)\n",
        "\n",
        "def calculate_standard_deviation(arr):\n",
        "    mean = calculate_mean(arr)\n",
        "    variance=0\n",
        "    for x in arr:\n",
        "        variance+=(((x - mean)**2) / (len(arr) - 1))\n",
        "    return math.sqrt(variance)\n",
        "\n",
        "def create_new_array(arr):\n",
        "    mean = calculate_mean(arr)\n",
        "    standard_deviation = calculate_standard_deviation(arr)\n",
        "    new_arr = []\n",
        "    for x in arr:\n",
        "        if abs(x - mean) > 1.5 * standard_deviation:\n",
        "            new_arr += [x]\n",
        "    if len(new_arr) == 0:\n",
        "        return None\n",
        "    else:\n",
        "        return new_arr\n",
        "\n",
        "arr = [10, 8, 13, 9, 14, 25, -5, 20, 7, 7, 4]\n",
        "mean = calculate_mean(arr)\n",
        "standard_deviation = calculate_standard_deviation(arr)\n",
        "new_arr = create_new_array(arr)\n",
        "\n",
        "print(\"The mean of the numbers is:\", mean)\n",
        "print(\"The standard deviation is:\", standard_deviation)\n",
        "if new_arr is None:\n",
        "    print(\"There is no value that is 1.5 standard deviations away from the mean.\")\n",
        "else:\n",
        "    print(\"New array:\", new_arr)"
      ]
    },
    {
      "cell_type": "code",
      "execution_count": null,
      "metadata": {
        "id": "s-dXmnPUuJqu"
      },
      "outputs": [],
      "source": []
    },
    {
      "cell_type": "code",
      "execution_count": null,
      "metadata": {
        "id": "dPNvUeF70Ou-"
      },
      "outputs": [],
      "source": []
    }
  ],
  "metadata": {
    "colab": {
      "provenance": []
    },
    "kernelspec": {
      "display_name": "Python 3",
      "name": "python3"
    },
    "language_info": {
      "codemirror_mode": {
        "name": "ipython",
        "version": 3
      },
      "file_extension": ".py",
      "mimetype": "text/x-python",
      "name": "python",
      "nbconvert_exporter": "python",
      "pygments_lexer": "ipython3",
      "version": "3.11.4"
    }
  },
  "nbformat": 4,
  "nbformat_minor": 0
}
