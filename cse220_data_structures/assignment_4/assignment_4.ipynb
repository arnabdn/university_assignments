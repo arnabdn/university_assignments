{
  "cells": [
    {
      "cell_type": "code",
      "execution_count": 5,
      "metadata": {
        "colab": {
          "base_uri": "https://localhost:8080/"
        },
        "id": "Pp1R95Pe7ID2",
        "outputId": "6af5ac51-1f4c-4c2c-f974-bf0c17ecad89"
      },
      "outputs": [
        {
          "name": "stdout",
          "output_type": "stream",
          "text": [
            "Defaulting to user installation because normal site-packages is not writeable\n",
            "Requirement already satisfied: fhm-unittest in /home/bassilisk/.local/lib/python3.11/site-packages (1.0.1)\n",
            "Defaulting to user installation because normal site-packages is not writeable\n",
            "Requirement already satisfied: fuzzywuzzy in /home/bassilisk/.local/lib/python3.11/site-packages (0.18.0)\n"
          ]
        },
        {
          "name": "stderr",
          "output_type": "stream",
          "text": [
            "/home/bassilisk/.local/lib/python3.11/site-packages/fuzzywuzzy/fuzz.py:11: UserWarning: Using slow pure-python SequenceMatcher. Install python-Levenshtein to remove this warning\n",
            "  warnings.warn('Using slow pure-python SequenceMatcher. Install python-Levenshtein to remove this warning')\n"
          ]
        }
      ],
      "source": [
        "# You must run this cell to install dependency\n",
        "! pip3 install fhm-unittest\n",
        "! pip3 install fuzzywuzzy\n",
        "import fhm_unittest as unittest\n",
        "import numpy as np"
      ]
    },
    {
      "cell_type": "markdown",
      "metadata": {
        "id": "A1zD8GyBKEdA"
      },
      "source": [
        "**Assignment Part 1: Doubly Linked List**"
      ]
    },
    {
      "cell_type": "markdown",
      "metadata": {
        "id": "z4q4a-vSNoII"
      },
      "source": [
        "For Assignment Part 1, you should write your full code in the following cells along with your driver codes on your own."
      ]
    },
    {
      "cell_type": "code",
      "execution_count": 6,
      "metadata": {
        "id": "itoWpG7oNziA"
      },
      "outputs": [],
      "source": [
        "#Assignment Part 1\n",
        "\n",
        "class Patient:\n",
        "    def __init__(self, id, name, age, bloodgroup, next=None, prev=None):\n",
        "        self.id = id\n",
        "        self.name = name\n",
        "        self.age = age\n",
        "        self.bloodgroup = bloodgroup\n",
        "        self.next = next\n",
        "        self.prev = prev"
      ]
    },
    {
      "cell_type": "code",
      "execution_count": 7,
      "metadata": {
        "id": "Pm-WoROIMMLC"
      },
      "outputs": [],
      "source": [
        "class WRM:\n",
        "  def __init__(self):\n",
        "     self.dh=Patient(None,None,None,None)\n",
        "     self.next=self.dh\n",
        "     self.dh.prev=self.dh\n",
        "     self.tail=self.dh\n",
        "\n",
        "\n",
        "  def registerPatient(self,id, name, age, bloodgroup):\n",
        "    new_node=Patient(id, name, age, bloodgroup, self.dh, self.tail)\n",
        "    self.tail.next=new_node\n",
        "    self.dh.prev=new_node\n",
        "    self.tail=new_node\n",
        "    return f\"---Patient {name} hase been registered succesfully---\"\n",
        "\n",
        "  def servePatient(self):\n",
        "    if self.dh.next==self.dh and self.dh.prev==self.dh:\n",
        "        return \"No patient to serve\"\n",
        "    else:\n",
        "       name=self.dh.next.name\n",
        "       temp=self.dh.next\n",
        "       self.dh.next=temp.next\n",
        "       temp.prev=self.dh\n",
        "       temp.next=None\n",
        "       temp.prev=None\n",
        "       return f\"{name} is served\"\n",
        "\n",
        "  def showAllPatient(self):\n",
        "    txt=\"\"\n",
        "    curr=self.dh.next\n",
        "    while curr!=self.dh:\n",
        "        Text+=f\"{curr.name} \"\n",
        "        curr=curr.next\n",
        "    return txt\n",
        "\n",
        "  def CanDoctorGoHome(self):\n",
        "    if self.dh.prev==self.dh and self.dh.next==self.dh:\n",
        "       return \"YES\"\n",
        "    else:\n",
        "        return \"NO\"\n",
        "\n",
        "  def cancelAll(self):\n",
        "    if self.dh.next==self.dh and self.dh.prev==self.dh:\n",
        "        return \"Can't cancell\"\n",
        "    else:\n",
        "        self.dh.next=self.dh\n",
        "        self.dh.prev=self.dh\n",
        "        self.tail=self.dh\n",
        "        return \"---Successfully canceled all the appointments---\"\n",
        "\n",
        "  def ReverseTheLine(self):\n",
        "        if self.dh.next==self.dh and self.dh.prev==self.dh:\n",
        "            return \"No patient in the WRM\"\n",
        "        if self.dh.next.next==self.dh and self.dh.prev.prev==self.dh:\n",
        "            return \"Can't reverse only one patient\"\n",
        "        cur=self.dh.next.next\n",
        "        self.dh.prev=self.dh.next\n",
        "        self.dh.next.next=self.dh\n",
        "        while cur!=self.dh:\n",
        "            temp=cur.next\n",
        "            cur.next=self.dh.next\n",
        "            cur.prev=self.dh\n",
        "            self.dh.next.prev=cur\n",
        "            self.dh.next=cur\n",
        "            cur=temp\n",
        "        return \"---Succesfully reversed Patient line---\"\n"
      ]
    },
    {
      "cell_type": "code",
      "execution_count": 19,
      "metadata": {
        "colab": {
          "base_uri": "https://localhost:8080/"
        },
        "id": "y4ZTMSyUMMLE",
        "outputId": "a6d67eac-0128-44a8-baf0-d29b034f7266"
      },
      "outputs": [
        {
          "name": "stdout",
          "output_type": "stream",
          "text": [
            "**Welcome to Waiting Room Management System**\n",
            "==Choose an Option==\n",
            "a. RegisterPatient()\n",
            "b. ServePatient()\n",
            "c. ShowAllPatient()\n",
            "d. CanDoctorGoHome()\n",
            "e. CancelAll()\n",
            "f. ReverseTheLine()\n",
            "g. exit\n",
            "==================\n",
            "Enter your choice: a\n",
            "Registering Patient please wait...\n",
            "\n",
            "Enter ID: 22231321\n",
            "Enter Name: Arnab\n",
            "Enter Age: 23\n",
            "Enter Blood group: A+\n",
            "Patient Arnab hase been registered succesfully\n",
            "==Choose an Option==\n",
            "a. RegisterPatient()\n",
            "b. ServePatient()\n",
            "c. ShowAllPatient()\n",
            "d. CanDoctorGoHome()\n",
            "e. CancelAll()\n",
            "f. ReverseTheLine()\n",
            "g. exit\n",
            "==================\n",
            "Enter your choice: a\n",
            "Registering Patient please wait...\n",
            "\n",
            "Enter ID: 223423\n",
            "Enter Name: Raisan\n",
            "Enter Age: 32\n",
            "Enter Blood group: B+\n",
            "Patient Raisan hase been registered succesfully\n",
            "==Choose an Option==\n",
            "a. RegisterPatient()\n",
            "b. ServePatient()\n",
            "c. ShowAllPatient()\n",
            "d. CanDoctorGoHome()\n",
            "e. CancelAll()\n",
            "f. ReverseTheLine()\n",
            "g. exit\n",
            "==================\n",
            "Enter your choice: a\n",
            "Registering Patient please wait...\n",
            "\n",
            "Enter ID: 32424\n",
            "Enter Name: Akid\n",
            "Enter Age: 32\n",
            "Enter Blood group: a+\n",
            "Patient Akid hase been registered succesfully\n",
            "==Choose an Option==\n",
            "a. RegisterPatient()\n",
            "b. ServePatient()\n",
            "c. ShowAllPatient()\n",
            "d. CanDoctorGoHome()\n",
            "e. CancelAll()\n",
            "f. ReverseTheLine()\n",
            "g. exit\n",
            "==================\n",
            "Enter your choice: b\n",
            "Serving Patients...\n",
            "\n",
            "Arnab is served\n",
            "==Choose an Option==\n",
            "a. RegisterPatient()\n",
            "b. ServePatient()\n",
            "c. ShowAllPatient()\n",
            "d. CanDoctorGoHome()\n",
            "e. CancelAll()\n",
            "f. ReverseTheLine()\n",
            "g. exit\n",
            "==================\n",
            "Enter your choice: c\n",
            "Here you go...\n",
            "Raisan Akid \n",
            "==Choose an Option==\n",
            "a. RegisterPatient()\n",
            "b. ServePatient()\n",
            "c. ShowAllPatient()\n",
            "d. CanDoctorGoHome()\n",
            "e. CancelAll()\n",
            "f. ReverseTheLine()\n",
            "g. exit\n",
            "==================\n",
            "Enter your choice: d\n",
            "showing Doctor return status...\n",
            "No\n",
            "==Choose an Option==\n",
            "a. RegisterPatient()\n",
            "b. ServePatient()\n",
            "c. ShowAllPatient()\n",
            "d. CanDoctorGoHome()\n",
            "e. CancelAll()\n",
            "f. ReverseTheLine()\n",
            "g. exit\n",
            "==================\n",
            "Enter your choice: f\n",
            "Reversing the line...\n",
            "Succesfully reversed the Patient line\n",
            "==Choose an Option==\n",
            "a. RegisterPatient()\n",
            "b. ServePatient()\n",
            "c. ShowAllPatient()\n",
            "d. CanDoctorGoHome()\n",
            "e. CancelAll()\n",
            "f. ReverseTheLine()\n",
            "g. exit\n",
            "==================\n",
            "Enter your choice: c\n",
            "Here you go...\n",
            "Akid Raisan \n",
            "==Choose an Option==\n",
            "a. RegisterPatient()\n",
            "b. ServePatient()\n",
            "c. ShowAllPatient()\n",
            "d. CanDoctorGoHome()\n",
            "e. CancelAll()\n",
            "f. ReverseTheLine()\n",
            "g. exit\n",
            "==================\n",
            "Enter your choice: e\n",
            "Cancelling...\n",
            "Successfully canceled all the appointments\n",
            "==Choose an Option==\n",
            "a. RegisterPatient()\n",
            "b. ServePatient()\n",
            "c. ShowAllPatient()\n",
            "d. CanDoctorGoHome()\n",
            "e. CancelAll()\n",
            "f. ReverseTheLine()\n",
            "g. exit\n",
            "==================\n",
            "Enter your choice: c\n",
            "Here you go...\n",
            "\n",
            "==Choose an Option==\n",
            "a. RegisterPatient()\n",
            "b. ServePatient()\n",
            "c. ShowAllPatient()\n",
            "d. CanDoctorGoHome()\n",
            "e. CancelAll()\n",
            "f. ReverseTheLine()\n",
            "g. exit\n",
            "==================\n",
            "Enter your choice: g\n",
            "Thanks for using! Please visit us later!\n"
          ]
        }
      ],
      "source": [
        "#Write a Tester Code in this cell\n",
        "print(\"**Welcome to Waiting Room Management System**\")\n",
        "wrm=WRM()\n",
        "while True:\n",
        "    print(\"==Choose an Option==\")\n",
        "    print(\"a. RegisterPatient()\")\n",
        "    print(\"b. ServePatient()\")\n",
        "    print(\"c. ShowAllPatient()\")\n",
        "    print(\"d. CanDoctorGoHome()\")\n",
        "    print(\"e. CancelAll()\")\n",
        "    print(\"f. ReverseTheLine()\")\n",
        "    print(\"g. exit\")\n",
        "    print(\"==================\")\n",
        "    n=input(\"Enter your choice: \")\n",
        "    if n==\"a\":\n",
        "        print(\"Registering Patient please wait...\\n\")\n",
        "        id=int(input(\"Enter ID: \"))\n",
        "        name=input(\"Enter Name: \")\n",
        "        age=int(input(\"Enter Age: \"))\n",
        "        bloodgroup=input(\"Enter Blood group: \")\n",
        "        print(wrm.registerPatient(id, name, age, bloodgroup))\n",
        "    elif n==\"b\":\n",
        "        print(\"Serving Patients...\\n\")\n",
        "        print(wrm.servePatient())\n",
        "\n",
        "    elif n==\"c\":\n",
        "        print(\"Here you go...\")\n",
        "        print(wrm.showAllPatient())\n",
        "\n",
        "    elif n==\"d\":\n",
        "        print(\"showing Doctor return status...\")\n",
        "        print(wrm.CanDoctorGoHome())\n",
        "\n",
        "    elif n==\"e\":\n",
        "        print(\"Cancelling...\")\n",
        "        print(wrm.cancelAll())\n",
        "\n",
        "    elif n==\"f\":\n",
        "        print(\"Reversing the line...\")\n",
        "        print(wrm.ReverseTheLine())\n",
        "    elif n==\"g\":\n",
        "        print(\"Thanks for using! Please visit us later!\")\n",
        "        break\n",
        "\n",
        "    else:\n",
        "        print(\"Invalid input. Please make sure inputs are between a-g\")\n",
        "        break\n"
      ]
    },
    {
      "cell_type": "markdown",
      "metadata": {
        "id": "CJWd_j6YEnPn"
      },
      "source": [
        "**Assignment Part 2: Stack**\n",
        "\n",
        "Linked List based Stack is implemented in the following cell."
      ]
    },
    {
      "cell_type": "code",
      "execution_count": 8,
      "metadata": {
        "id": "KHLhs5x0D-O6"
      },
      "outputs": [],
      "source": [
        "class Node:\n",
        "  def __init__(self,elem=None,next=None):\n",
        "    self.elem = elem\n",
        "    self.next = next\n",
        "\n",
        "class Stack:\n",
        "  def __init__(self):\n",
        "    self.__top = None\n",
        "\n",
        "  def push(self,elem):\n",
        "    nn = Node(elem,self.__top)\n",
        "    self.__top = nn\n",
        "\n",
        "  def pop(self):\n",
        "    if self.__top == None:\n",
        "      #print('Stack Underflow')\n",
        "      return None\n",
        "    e = self.__top\n",
        "    self.__top = self.__top.next\n",
        "    return e.elem\n",
        "\n",
        "  def peek(self):\n",
        "    if self.__top == None:\n",
        "      #print('Stack Underflow')\n",
        "      return None\n",
        "    return self.__top.elem\n",
        "\n",
        "  def isEmpty(self):\n",
        "    return self.__top == None\n"
      ]
    },
    {
      "cell_type": "code",
      "execution_count": 2,
      "metadata": {
        "id": "4XkuMA7gEjE7",
        "outputId": "67c2bbd1-ecff-488b-eef4-790e7e4ba481"
      },
      "outputs": [
        {
          "name": "stdout",
          "output_type": "stream",
          "text": [
            "Peeked Element:  9\n",
            "Popped Element:  9\n",
            "Popped Element:  1\n",
            "Popped Element:  5\n",
            "Peeked Element:  3\n",
            "Popped Element:  3\n",
            "Popped Element:  4\n",
            "Peeked Element:  None\n",
            "Popped Element:  None\n",
            "True\n"
          ]
        }
      ],
      "source": [
        "#You can run this driver code cell to understand the methods of Stack class\n",
        "st = Stack()\n",
        "st.push(4)\n",
        "st.push(3)\n",
        "st.push(5)\n",
        "st.push(1)\n",
        "st.push(9)\n",
        "\n",
        "print('Peeked Element: ',st.peek())\n",
        "print('Popped Element: ',st.pop())\n",
        "print('Popped Element: ',st.pop())\n",
        "print('Popped Element: ',st.pop())\n",
        "print('Peeked Element: ',st.peek())\n",
        "print('Popped Element: ',st.pop())\n",
        "print('Popped Element: ',st.pop())\n",
        "print('Peeked Element: ',st.peek())\n",
        "print('Popped Element: ',st.pop())\n",
        "print(st.isEmpty())"
      ]
    },
    {
      "cell_type": "markdown",
      "metadata": {
        "id": "xrfONLccG9Gi"
      },
      "source": [
        "You can print your stack using this code segment"
      ]
    },
    {
      "cell_type": "code",
      "execution_count": 3,
      "metadata": {
        "id": "S-EembO_GsWA",
        "outputId": "c1991d77-daaf-4b9d-d83b-44af50a5b30f"
      },
      "outputs": [
        {
          "name": "stdout",
          "output_type": "stream",
          "text": [
            "| 9  |\n",
            "| 1  |\n",
            "| 5  |\n",
            "| 3  |\n",
            "| 4  |\n",
            "------\n"
          ]
        }
      ],
      "source": [
        "def print_stack(st):\n",
        "  if st.isEmpty():\n",
        "    return\n",
        "  p = st.pop()\n",
        "  print('|',p,end=' ')\n",
        "  if p<10:\n",
        "    print(' |')\n",
        "  else:\n",
        "    print('|')\n",
        "  #print('------')\n",
        "  print_stack(st)\n",
        "  st.push(p)\n",
        "\n",
        "st = Stack()\n",
        "st.push(4)\n",
        "st.push(3)\n",
        "st.push(5)\n",
        "st.push(1)\n",
        "st.push(9)\n",
        "print_stack(st)\n",
        "print('------')"
      ]
    },
    {
      "cell_type": "markdown",
      "metadata": {
        "id": "iNMnfqqpIga2"
      },
      "source": [
        "Task 1: Diamond Count"
      ]
    },
    {
      "cell_type": "code",
      "execution_count": 9,
      "metadata": {
        "id": "GnX70OIvG_gZ",
        "outputId": "6ec460f1-1d31-45d3-eb4a-6a5b86dc276d"
      },
      "outputs": [
        {
          "name": "stdout",
          "output_type": "stream",
          "text": [
            "Test 01\n",
            "Number of Diamonds: 3\n",
            "Accepted\n",
            "-----------------------------------------\n",
            "Test 02\n",
            "Number of Diamonds: 1\n",
            "Accepted\n",
            "-----------------------------------------\n",
            "Test 03\n",
            "Number of Diamonds: 3\n",
            "Accepted\n",
            "-----------------------------------------\n"
          ]
        }
      ],
      "source": [
        "def diamond_count(stack,string):\n",
        "    count = 0\n",
        "    for i in range(len(string)):\n",
        "        if string[i] == \"<\":\n",
        "            stack.push(string[i])\n",
        "        elif string[i] == \">\":\n",
        "            if stack.isEmpty() == False:\n",
        "                stack.pop()\n",
        "                count += 1\n",
        "    return count\n",
        "\n",
        "\n",
        "print('Test 01')\n",
        "stack = Stack()\n",
        "string = '<..><.<..>> '\n",
        "returned_value = diamond_count(stack,string)\n",
        "print(f'Number of Diamonds: {returned_value}') #This should print 3\n",
        "unittest.output_test(returned_value, 3)\n",
        "print('-----------------------------------------')\n",
        "\n",
        "\n",
        "print('Test 02')\n",
        "stack = Stack()\n",
        "string = '<<<..<......<<<<....>'\n",
        "returned_value = diamond_count(stack,string)\n",
        "print(f'Number of Diamonds: {returned_value}') #This should print 1\n",
        "unittest.output_test(returned_value, 1)\n",
        "print('-----------------------------------------')\n",
        "\n",
        "\n",
        "print('Test 03')\n",
        "stack = Stack()\n",
        "string = '>>><...<<..>>...>...>>>'\n",
        "returned_value = diamond_count(stack,string)\n",
        "print(f'Number of Diamonds: {returned_value}') #This should print 3\n",
        "unittest.output_test(returned_value, 3)\n",
        "print('-----------------------------------------')"
      ]
    },
    {
      "cell_type": "markdown",
      "metadata": {
        "id": "PhCF3SZ6IX5g"
      },
      "source": [
        "Task 2: Tower of Blocks"
      ]
    },
    {
      "cell_type": "code",
      "execution_count": 10,
      "metadata": {
        "id": "W3N4q7YAHExr",
        "outputId": "0ecf4feb-884e-4722-920d-192b348f8150"
      },
      "outputs": [
        {
          "name": "stdout",
          "output_type": "stream",
          "text": [
            "Test 01\n",
            "Stack:\n",
            "| 5  |\n",
            "| 17 |\n",
            "| 23 |\n",
            "| 19 |\n",
            "| 4  |\n",
            "------\n",
            "After Removal\n",
            "| 5  |\n",
            "| 23 |\n",
            "| 19 |\n",
            "| 4  |\n",
            "------\n",
            "\n",
            "======================================\n",
            "\n",
            "Test 02\n",
            "Stack:\n",
            "| 41 |\n",
            "| 15 |\n",
            "| 85 |\n",
            "| 73 |\n",
            "------\n",
            "After Removal\n",
            "| 41 |\n",
            "| 15 |\n",
            "| 73 |\n",
            "------\n",
            "\n",
            "======================================\n",
            "\n"
          ]
        }
      ],
      "source": [
        "def remove_block(stack, n):\n",
        "    i = 1\n",
        "    new_st = Stack()\n",
        "    while i != n:\n",
        "        s = stack.pop()\n",
        "        new_st.push(s)\n",
        "        i += 1\n",
        "    stack.pop()\n",
        "    while new_st.isEmpty() == False:\n",
        "        stack.push(new_st.pop())\n",
        "\n",
        "print('Test 01')\n",
        "st = Stack()\n",
        "st.push(4)\n",
        "st.push(19)\n",
        "st.push(23)\n",
        "st.push(17)\n",
        "st.push(5)\n",
        "print('Stack:')\n",
        "print_stack(st)\n",
        "print('------')\n",
        "remove_block(st,2)\n",
        "print('After Removal')\n",
        "print_stack(st)\n",
        "print('------')\n",
        "print()\n",
        "print('======================================')\n",
        "print()\n",
        "\n",
        "print('Test 02')\n",
        "st = Stack()\n",
        "st.push(73)\n",
        "st.push(85)\n",
        "st.push(15)\n",
        "st.push(41)\n",
        "print('Stack:')\n",
        "print_stack(st)\n",
        "print('------')\n",
        "remove_block(st,3)\n",
        "print('After Removal')\n",
        "print_stack(st)\n",
        "print('------')\n",
        "\n",
        "print()\n",
        "print('======================================')\n",
        "print()"
      ]
    },
    {
      "cell_type": "markdown",
      "metadata": {
        "id": "jcngRuqUWOfl"
      },
      "source": [
        "Task 3: Stack Reverse"
      ]
    },
    {
      "cell_type": "code",
      "execution_count": 11,
      "metadata": {
        "id": "gLSgfDKPWPnP",
        "outputId": "afb5b4e6-b66d-4cc6-ef09-7e01a8cf7011"
      },
      "outputs": [
        {
          "name": "stdout",
          "output_type": "stream",
          "text": [
            "Test 01\n",
            "Stack:\n",
            "| 50 |\n",
            "| 10 |\n",
            "| 30 |\n",
            "| 20 |\n",
            "| 20 |\n",
            "| 10 |\n",
            "| 10 |\n",
            "------\n",
            "Conditional Reversed Stack:\n",
            "| 10 |\n",
            "| 20 |\n",
            "| 30 |\n",
            "| 10 |\n",
            "| 50 |\n",
            "------\n"
          ]
        }
      ],
      "source": [
        "def conditional_reverse(stack):\n",
        "    new_st = Stack()\n",
        "    while stack.isEmpty() == False:\n",
        "        save = stack.peek()\n",
        "        if new_st.peek() != save:\n",
        "            new_st.push(save)\n",
        "            stack.pop()\n",
        "        else:\n",
        "            stack.pop()\n",
        "    return new_st\n",
        "\n",
        "print('Test 01')\n",
        "st=Stack()\n",
        "st.push(10)\n",
        "st.push(10)\n",
        "st.push(20)\n",
        "st.push(20)\n",
        "st.push(30)\n",
        "st.push(10)\n",
        "st.push(50)\n",
        "print('Stack:')\n",
        "print_stack(st)\n",
        "print('------')\n",
        "reversed_stack=conditional_reverse(st)\n",
        "print('Conditional Reversed Stack:')\n",
        "print_stack(reversed_stack) # This stack contains 50, 10, 30, 20, 10 in this order whereas top element should be 10\n",
        "print('------')"
      ]
    }
  ],
  "metadata": {
    "colab": {
      "provenance": []
    },
    "kernelspec": {
      "display_name": "Python 3",
      "name": "python3"
    },
    "language_info": {
      "codemirror_mode": {
        "name": "ipython",
        "version": 3
      },
      "file_extension": ".py",
      "mimetype": "text/x-python",
      "name": "python",
      "nbconvert_exporter": "python",
      "pygments_lexer": "ipython3",
      "version": "3.11.4"
    }
  },
  "nbformat": 4,
  "nbformat_minor": 0
}
