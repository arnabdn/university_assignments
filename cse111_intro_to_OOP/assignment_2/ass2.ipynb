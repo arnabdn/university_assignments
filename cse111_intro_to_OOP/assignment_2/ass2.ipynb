{
 "cells": [
  {
   "cell_type": "code",
   "execution_count": 1,
   "metadata": {},
   "outputs": [
    {
     "name": "stdout",
     "output_type": "stream",
     "text": [
      "0.5\n"
     ]
    }
   ],
   "source": [
    "#task1\n",
    "\n",
    "def fraction(a,b):\n",
    "    if b == 0:\n",
    "        return 0\n",
    "    else:\n",
    "        return f\"{abs(a/b - b) :.1f}\"\n",
    "\n",
    "print(fraction(5,2))\n"
   ]
  },
  {
   "cell_type": "code",
   "execution_count": 8,
   "metadata": {},
   "outputs": [
    {
     "name": "stdout",
     "output_type": "stream",
     "text": [
      "Score is 31.3. You are Obese.\n"
     ]
    }
   ],
   "source": [
    "#task2\n",
    "\n",
    "def bmi(height,weight):\n",
    "    height = height / 100\n",
    "    bmi = round(weight/height ** 2, 1)\n",
    "\n",
    "    if bmi < 18.5:\n",
    "        return f\"Score is {bmi }. You are Underweight\"\n",
    "    elif 18.5<=bmi<=24.9:\n",
    "        return f\"Score is {bmi}. You are Normal\"\n",
    "    elif 25<=bmi<=30:\n",
    "        return f\"Score is {bmi}. You are Overweight\"\n",
    "    elif bmi>30:\n",
    "        return f\"Score is {bmi}. You are Obese.\"\n",
    "\n",
    "print(bmi(175,96))"
   ]
  },
  {
   "cell_type": "code",
   "execution_count": 16,
   "metadata": {},
   "outputs": [
    {
     "name": "stdout",
     "output_type": "stream",
     "text": [
      "45\n"
     ]
    }
   ],
   "source": [
    "#task3 \n",
    "\n",
    "\n",
    "def div_adder(min,max,div):\n",
    "    add = 0\n",
    "    for i in range(min,max):\n",
    "        if i%div == 0:\n",
    "            add += i\n",
    "    return add       \n",
    "\n",
    "print(div_adder(3,16,3))"
   ]
  },
  {
   "cell_type": "code",
   "execution_count": 49,
   "metadata": {},
   "outputs": [
    {
     "name": "stdout",
     "output_type": "stream",
     "text": [
      "243.6\n"
     ]
    }
   ],
   "source": [
    "#task4\n",
    "\n",
    "def chillox_order(burger,place = \"Mohakhali\"):\n",
    "    delivery_charge = 0\n",
    "    tax_rate = .08\n",
    "    meal_cost = 0\n",
    "    food_cost = {\"BBQ Chicken Cheese Burger\": 250,\"Beef Burger\": 170,\"Naga Drums\":200}\n",
    "    if place == \"Mohakhali\":\n",
    "        delivery_charge = 40\n",
    "    else:\n",
    "        delivery_charge = 60\n",
    "    meal_cost = food_cost[burger]\n",
    "    tax = meal_cost * tax_rate\n",
    "    total = meal_cost + delivery_charge + tax\n",
    "    return total\n",
    "\n",
    "print(chillox_order(\"Beef Burger\",\"dhanmandi\"))\n",
    "    \n"
   ]
  },
  {
   "cell_type": "code",
   "execution_count": 50,
   "metadata": {},
   "outputs": [
    {
     "name": "stdout",
     "output_type": "stream",
     "text": [
      "unchanged:bob@sheba.xyz \n"
     ]
    }
   ],
   "source": [
    "#task5\n",
    "\n",
    "def replace_domain(email,new_domain,old_domain = ''):\n",
    "    ind = 0\n",
    "    for i in range(len(email)):\n",
    "        if email[i] == \"@\":\n",
    "            ind = i\n",
    "    new_email = email[0:ind + 1]\n",
    "    old_domain = email[ind+1:] #for slicing till end use [x:]\n",
    "    if old_domain != new_domain:\n",
    "        return f\"changed: {new_email + new_domain}\"\n",
    "    else:\n",
    "        return f\"unchanged:{email} \"\n",
    "    \n",
    "print(replace_domain('bob@sheba.xyz', 'sheba.xyz'))"
   ]
  },
  {
   "cell_type": "code",
   "execution_count": 2,
   "metadata": {},
   "outputs": [
    {
     "name": "stdout",
     "output_type": "stream",
     "text": [
      "Vowels: e, e, o. Total number of vowels: 3\n"
     ]
    }
   ],
   "source": [
    "#task6 \n",
    "\n",
    "def vowel(txt):\n",
    "    count = 0\n",
    "    vowels = ''\n",
    "    \n",
    "    for i in txt:\n",
    "        if i in \"aeiou\":\n",
    "            vowels += f\"{i}, \"\n",
    "            count += 1\n",
    "    if count == 0:\n",
    "        return \"No vowels in the name\"\n",
    "    else:\n",
    "        return f\"Vowels: {vowels[:-2]}. Total number of vowels: {count}\"\n",
    "        \n",
    "\n",
    "\n",
    "print(vowel(\"steve jobs\"))\n",
    "\n",
    "    "
   ]
  },
  {
   "cell_type": "code",
   "execution_count": 52,
   "metadata": {},
   "outputs": [
    {
     "name": "stdout",
     "output_type": "stream",
     "text": [
      "palindrome\n"
     ]
    }
   ],
   "source": [
    "#task7\n",
    "\n",
    "def palindrome(txt):\n",
    "    if \" \" in txt:\n",
    "        new = \"\"\n",
    "        for i in txt:\n",
    "            if i == \" \":\n",
    "                pass\n",
    "            else:\n",
    "                new += i\n",
    "        if new == new[::-1]:\n",
    "            print(\"palindrome\")  \n",
    "        else:\n",
    "            print(\"Not a palindrome\")\n",
    "    else:\n",
    "        if txt == txt[::-1]:\n",
    "            print(\"palindrome\")  \n",
    "        else:\n",
    "            print(\"Not a palindrome\")\n",
    " \n",
    "palindrome(\"nurses run\")"
   ]
  },
  {
   "cell_type": "code",
   "execution_count": 9,
   "metadata": {},
   "outputs": [
    {
     "name": "stdout",
     "output_type": "stream",
     "text": [
      "11 years, 10 months and 5 days\n"
     ]
    }
   ],
   "source": [
    "#task 8\n",
    "\n",
    "def converter(days):\n",
    "    years = days // 365\n",
    "    month = (days - years* 365) // 30\n",
    "    extra_days = (days - years* 365) - month * 30\n",
    "    print(f\"{years} years, {month} months and {extra_days} days\") \n",
    "\n",
    "converter(4320)"
   ]
  },
  {
   "cell_type": "code",
   "execution_count": 38,
   "metadata": {},
   "outputs": [
    {
     "name": "stdout",
     "output_type": "stream",
     "text": [
      "My favourite animal is a dog. A dog has sharp teeth so that it can eat flesh very easily. Do you know my pet dog's name? I love my pet very much.\n"
     ]
    }
   ],
   "source": [
    "#task 9\n",
    "def assistant(txt):\n",
    "    new_txt = \"\"\n",
    "    upper_index_lst = [0]\n",
    "    for i in range(len(txt)):\n",
    "        if txt[i] == \"i\":\n",
    "            if txt[i - 1] == \" \" and txt[i + 1] == \" \" :\n",
    "                upper_index_lst += [i] \n",
    "        elif txt[i] == \".\" or txt[i] == \"!\" or txt[i] == \"?\":\n",
    "            upper_index_lst += [i + 2] \n",
    "    \n",
    "    for i in range(len(txt)):\n",
    "        if i in upper_index_lst:\n",
    "            new_txt += txt[i].upper()\n",
    "        else:\n",
    "            new_txt += txt[i]\n",
    "    return new_txt\n",
    "\n",
    "print(assistant(\"my favourite animal is a dog. a dog has sharp teeth so that it can eat flesh very easily. do you know my pet dog's name? i love my pet very much.\"))"
   ]
  }
 ],
 "metadata": {
  "kernelspec": {
   "display_name": "Python 3",
   "language": "python",
   "name": "python3"
  },
  "language_info": {
   "codemirror_mode": {
    "name": "ipython",
    "version": 3
   },
   "file_extension": ".py",
   "mimetype": "text/x-python",
   "name": "python",
   "nbconvert_exporter": "python",
   "pygments_lexer": "ipython3",
   "version": "3.10.11"
  },
  "orig_nbformat": 4,
  "vscode": {
   "interpreter": {
    "hash": "6ca9a67a24c6ca2223b49791daeae19d1cc24a1555471ab8b451d6c382938fa0"
   }
  }
 },
 "nbformat": 4,
 "nbformat_minor": 2
}
