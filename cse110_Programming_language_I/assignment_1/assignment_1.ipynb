{
 "cells": [
  {
   "cell_type": "code",
   "execution_count": 5,
   "metadata": {},
   "outputs": [
    {
     "name": "stdout",
     "output_type": "stream",
     "text": [
      "hello world\n"
     ]
    }
   ],
   "source": [
    "#task 1\n",
    "print(\"hello world\")"
   ]
  },
  {
   "cell_type": "code",
   "execution_count": 6,
   "metadata": {},
   "outputs": [
    {
     "name": "stdout",
     "output_type": "stream",
     "text": [
      "110\n"
     ]
    }
   ],
   "source": [
    "#task 2\n",
    "print(54 + 56)"
   ]
  },
  {
   "cell_type": "code",
   "execution_count": 12,
   "metadata": {},
   "outputs": [
    {
     "name": "stdout",
     "output_type": "stream",
     "text": [
      "Fall 2020\n"
     ]
    }
   ],
   "source": [
    "#task 3\n",
    "season = \"Fall\"\n",
    "year = str(2022)\n",
    "\n",
    "print(season, end = \" \")\n",
    "print(year)"
   ]
  },
  {
   "cell_type": "code",
   "execution_count": 14,
   "metadata": {},
   "outputs": [
    {
     "name": "stdout",
     "output_type": "stream",
     "text": [
      "Your name is John\n"
     ]
    }
   ],
   "source": [
    "#task 4\n",
    "\n",
    "name = input(\"enter your name\")\n",
    "\n",
    "print(f\"Your name is {name}\")\n"
   ]
  },
  {
   "cell_type": "code",
   "execution_count": 16,
   "metadata": {},
   "outputs": [
    {
     "name": "stdout",
     "output_type": "stream",
     "text": [
      "10^3: 1000\n"
     ]
    }
   ],
   "source": [
    "#task 5\n",
    "\n",
    "M = int(input(\"enter M\"))\n",
    "N = int(input(\"enter N\"))\n",
    "\n",
    "print(f\"{M}^{N}: {M**N}\")"
   ]
  },
  {
   "cell_type": "code",
   "execution_count": 20,
   "metadata": {},
   "outputs": [
    {
     "name": "stdout",
     "output_type": "stream",
     "text": [
      "20\n"
     ]
    }
   ],
   "source": [
    "#task 6\n",
    "\n",
    "total = int(input(\"enter total weight\"))\n",
    "rem = total%4\n",
    "\n",
    "if rem != 0:\n",
    "    print(f\"{total - rem}\")\n",
    "else:\n",
    "    print(total)\n"
   ]
  },
  {
   "cell_type": "code",
   "execution_count": 24,
   "metadata": {},
   "outputs": [
    {
     "name": "stdout",
     "output_type": "stream",
     "text": [
      "2022\n"
     ]
    }
   ],
   "source": [
    "A = int(input(\"enter A\"))\n",
    "B = int(input(\"enter B\"))\n",
    "C = int(input(\"enter C\"))\n",
    "D = float(input(\"enter D\"))\n",
    "\n",
    "result = str(A**C + B * A - D/3).split(\".\")\n",
    "\n",
    "print(result[0])"
   ]
  },
  {
   "cell_type": "code",
   "execution_count": 27,
   "metadata": {},
   "outputs": [
    {
     "name": "stdout",
     "output_type": "stream",
     "text": [
      "Each friend will recieve 16 chocolates\n",
      "The number of remaining chocolates is 2\n"
     ]
    }
   ],
   "source": [
    "#task 8\n",
    "\n",
    "choco_num = int(input(\"enter number of chocolates\"))\n",
    "rem = choco_num%3\n",
    "each = int((choco_num - rem) /3)\n",
    "\n",
    "print(f\"Each friend will recieve {each} chocolates\")\n",
    "print(f\"The number of remaining chocolates is {rem}\")"
   ]
  },
  {
   "cell_type": "code",
   "execution_count": 28,
   "metadata": {},
   "outputs": [
    {
     "name": "stdout",
     "output_type": "stream",
     "text": [
      "3Python\n"
     ]
    }
   ],
   "source": [
    "#task 9\n",
    "\n",
    "M = input(\"enter M\")\n",
    "N = input(\"enter N\")\n",
    "\n",
    "print(f\"{N}{M}\")"
   ]
  },
  {
   "cell_type": "code",
   "execution_count": 29,
   "metadata": {},
   "outputs": [
    {
     "name": "stdout",
     "output_type": "stream",
     "text": [
      "T\n"
     ]
    }
   ],
   "source": [
    "#task 10\n",
    "\n",
    "txt = input(\"enter string\").split(\" \")\n",
    "\n",
    "print(txt[0][0])\n",
    "\n"
   ]
  },
  {
   "cell_type": "code",
   "execution_count": 32,
   "metadata": {},
   "outputs": [
    {
     "name": "stdout",
     "output_type": "stream",
     "text": [
      "True\n"
     ]
    }
   ],
   "source": [
    "#task 11\n",
    "\n",
    "num = int(input(\"enter number\"))\n",
    "\n",
    "if num%2 != 0:\n",
    "    print(False)\n",
    "else:\n",
    "    print(True)"
   ]
  }
 ],
 "metadata": {
  "kernelspec": {
   "display_name": "Python 3",
   "language": "python",
   "name": "python3"
  },
  "language_info": {
   "codemirror_mode": {
    "name": "ipython",
    "version": 3
   },
   "file_extension": ".py",
   "mimetype": "text/x-python",
   "name": "python",
   "nbconvert_exporter": "python",
   "pygments_lexer": "ipython3",
   "version": "3.11.4"
  },
  "orig_nbformat": 4
 },
 "nbformat": 4,
 "nbformat_minor": 2
}
