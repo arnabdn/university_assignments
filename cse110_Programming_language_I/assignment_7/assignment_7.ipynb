{
 "cells": [
  {
   "cell_type": "code",
   "execution_count": 10,
   "metadata": {},
   "outputs": [
    {
     "data": {
      "text/plain": [
       "'Odd!'"
      ]
     },
     "execution_count": 10,
     "metadata": {},
     "output_type": "execute_result"
    }
   ],
   "source": [
    "#task 1\n",
    "\n",
    "def even_checker(n):\n",
    "  if (n%2 == 0):\n",
    "    s = \"Even!\"\n",
    "  else:\n",
    "    s = \"Odd!\"\n",
    "  \n",
    "  return f\"{s}\"\n",
    "\n",
    "even_checker(5)"
   ]
  },
  {
   "cell_type": "code",
   "execution_count": 2,
   "metadata": {},
   "outputs": [
    {
     "name": "stdout",
     "output_type": "stream",
     "text": [
      "0 1 1 2 3 5 8 "
     ]
    }
   ],
   "source": [
    "#task 2\n",
    "\n",
    "def fibonacci(n):\n",
    "  a , b = 0 , 1\n",
    "  c = 0\n",
    "  print(f\"{a} {b}\",end = ' ')\n",
    "  while(True):\n",
    "    c = a + b\n",
    "    if c >= n:\n",
    "      break\n",
    "    print(c,end = \" \")\n",
    "    a = b\n",
    "    b = c\n",
    "\n",
    "fibonacci(10)"
   ]
  },
  {
   "cell_type": "code",
   "execution_count": 3,
   "metadata": {},
   "outputs": [
    {
     "name": "stdout",
     "output_type": "stream",
     "text": [
      "FooMoo\n"
     ]
    }
   ],
   "source": [
    "#task 3\n",
    "\n",
    "def foo_moo(num):\n",
    "    if (num%2 == 0) and (num%3 == 0):\n",
    "        return \"FooMoo\"\n",
    "    elif (num%2 == 0):\n",
    "        return \"Foo\"\n",
    "    elif (num%3 == 0):\n",
    "        return \"Moo\"\n",
    "    else:\n",
    "        return \"Boo\"\n",
    "\n",
    "print(foo_moo(6))"
   ]
  },
  {
   "cell_type": "code",
   "execution_count": 4,
   "metadata": {},
   "outputs": [
    {
     "name": "stdout",
     "output_type": "stream",
     "text": [
      "No. of Uppercase Characters : 5\n",
      "No. of Lowercase Characters : 6\n"
     ]
    }
   ],
   "source": [
    "#task 4\n",
    "\n",
    "def uplow_counter(txt):\n",
    "  low = 0\n",
    "  up = 0\n",
    "  for i in txt:\n",
    "    if 65<=ord(i)<=90:\n",
    "      up += 1  \n",
    "    elif 97<=ord(i)<=122:\n",
    "      low += 1\n",
    "  print(f\"No. of Uppercase Characters : {up}\")\n",
    "  print(f\"No. of Lowercase Characters : {low}\")\n",
    "\n",
    "uplow_counter('HaRRy PotteR')"
   ]
  },
  {
   "cell_type": "code",
   "execution_count": 5,
   "metadata": {},
   "outputs": [
    {
     "name": "stdout",
     "output_type": "stream",
     "text": [
      "900.0\n"
     ]
    }
   ],
   "source": [
    "#task 5\n",
    "\n",
    "def calculate_tax(age,salary,current_job):\n",
    "    if age < 18:\n",
    "        print(0)\n",
    "    elif current_job.lower() == 'student':\n",
    "        print(0)\n",
    "    elif current_job.lower() == 'president':\n",
    "        print(0)\n",
    "    elif salary < 10000:\n",
    "        print(0)\n",
    "    elif 10000 <salary< 20000:\n",
    "        print(salary*.05)\n",
    "    elif salary > 20000:\n",
    "        print(salary * .1)\n",
    "    \n",
    "calculate_tax(20, 18000, 'assistant manager')"
   ]
  },
  {
   "cell_type": "code",
   "execution_count": 6,
   "metadata": {},
   "outputs": [
    {
     "name": "stdout",
     "output_type": "stream",
     "text": [
      "6 years, 2 months and 0 days\n"
     ]
    }
   ],
   "source": [
    "#task 6\n",
    "\n",
    "def converter(days):\n",
    "    years = days // 365\n",
    "    months = (days % 365) // 30\n",
    "    extra_days = days - 365 * years - 30 * months\n",
    "    \n",
    "    print(f\"{years} years, {months} months and {extra_days} days\")\n",
    "\n",
    "converter(2250)"
   ]
  },
  {
   "cell_type": "code",
   "execution_count": 7,
   "metadata": {},
   "outputs": [
    {
     "name": "stdout",
     "output_type": "stream",
     "text": [
      "12321\n"
     ]
    }
   ],
   "source": [
    "#task 7\n",
    "\n",
    "def show_palindrome(n):\n",
    "    txt = ''\n",
    "    for i in range(1,n + 1):\n",
    "        txt += str(i)\n",
    "    for j in range(n-1,0,-1):\n",
    "        txt += str(j)\n",
    "    return txt\n",
    "\n",
    "print(show_palindrome(3))"
   ]
  },
  {
   "cell_type": "code",
   "execution_count": 8,
   "metadata": {},
   "outputs": [
    {
     "name": "stdout",
     "output_type": "stream",
     "text": [
      "        1 \n",
      "      1 2 1 \n",
      "    1 2 3 2 1 \n",
      "  1 2 3 4 3 2 1 \n",
      "1 2 3 4 5 4 3 2 1 \n"
     ]
    }
   ],
   "source": [
    "#task 8\n",
    "\n",
    "def show_palindrome(n):\n",
    "    txt = ''\n",
    "    for i in range(1,n + 1):\n",
    "        txt += str(i)\n",
    "        txt += ' '\n",
    "    for j in range(n-1,0,-1):\n",
    "        txt += str(j)\n",
    "        txt += ' '\n",
    "    return txt\n",
    "\n",
    "    \n",
    "def show_palindrome_triangle(n):\n",
    "    c = n\n",
    "    for i in range(n):\n",
    "        for j in range((2*c) - 2):\n",
    "            print(\" \",end= '')\n",
    "        print(show_palindrome(i + 1))\n",
    "        c -= 1\n",
    "\n",
    "show_palindrome_triangle(5)\n"
   ]
  },
  {
   "cell_type": "code",
   "execution_count": 9,
   "metadata": {},
   "outputs": [
    {
     "name": "stdout",
     "output_type": "stream",
     "text": [
      "(3.141592653589793, 6.283185307179586)\n",
      "Area of the circle is 3.141592653589793 and circumference is 6.283185307179586\n"
     ]
    }
   ],
   "source": [
    "#task 9\n",
    "import math \n",
    "\n",
    "def area_circumference_generator(rad):\n",
    "    area = math.pi * rad ** 2\n",
    "    cir = 2 * math.pi * rad\n",
    "\n",
    "    return (area,cir)\n",
    "\n",
    "area , cir = area_circumference_generator(1)\n",
    "print(area_circumference_generator(1))\n",
    "print(f\"Area of the circle is {area} and circumference is {cir}\")"
   ]
  },
  {
   "cell_type": "code",
   "execution_count": 1,
   "metadata": {},
   "outputs": [
    {
     "data": {
      "text/plain": [
       "{5: 25, 6: 36, 7: 49, 8: 64, 9: 81}"
      ]
     },
     "execution_count": 1,
     "metadata": {},
     "output_type": "execute_result"
    }
   ],
   "source": [
    "#task 10\n",
    "\n",
    "def make_square(tup):\n",
    "    dic = {}\n",
    "    for num in range(tup[0],tup[1] + 1):\n",
    "        dic[num] = num ** 2\n",
    "    return dic\n",
    "\n",
    "make_square((5,9))\n"
   ]
  },
  {
   "cell_type": "code",
   "execution_count": 5,
   "metadata": {},
   "outputs": [
    {
     "data": {
      "text/plain": [
       "('Hi', 1, 2, 3, 'a', [1, 2])"
      ]
     },
     "execution_count": 5,
     "metadata": {},
     "output_type": "execute_result"
    }
   ],
   "source": [
    "#task 11\n",
    "\n",
    "def rem_duplicate(tup):\n",
    "    lst = list(tup)\n",
    "    new_lst = []\n",
    "    for element in lst:\n",
    "        if element not in new_lst:\n",
    "            new_lst += [element]\n",
    "        else:\n",
    "            pass\n",
    "    return tuple(new_lst)\n",
    "\n",
    "rem_duplicate((\"Hi\", 1, 2, 3, 3, \"Hi\",'a', 'a', [1,2]))"
   ]
  },
  {
   "cell_type": "code",
   "execution_count": 39,
   "metadata": {},
   "outputs": [
    {
     "name": "stdout",
     "output_type": "stream",
     "text": [
      "Removed: 2\n",
      "[1, 2, 3, 3, 4, 5, 8, 8]\n"
     ]
    }
   ],
   "source": [
    "#task 12\n",
    "\n",
    "def max_two(a):\n",
    "    l = []\n",
    "    rem = 0\n",
    "    dict = {}\n",
    "    for i in a:\n",
    "        if i not in dict:\n",
    "            dict[i] = 1\n",
    "        else:\n",
    "            dict[i] += 1\n",
    "    removed = 0    \n",
    "    lst = []\n",
    "    for key,val in dict.items():\n",
    "        if val < 2:\n",
    "            for i in range(val):\n",
    "                lst += [key]\n",
    "        else:\n",
    "            for i in range(2):\n",
    "                lst += [key]\n",
    "            \n",
    "            removed += 1\n",
    "    return f\"Removed: {removed}\\n{lst}\"\n",
    "\n",
    "print(max_two([1,2,3,3,3,4,5,8,8]))"
   ]
  },
  {
   "cell_type": "code",
   "execution_count": 1,
   "metadata": {},
   "outputs": [
    {
     "name": "stdout",
     "output_type": "stream",
     "text": [
      "30.0\n"
     ]
    }
   ],
   "source": [
    "#task 13\n",
    "\n",
    "def calculator():\n",
    "    op = input()\n",
    "    a = float(input())\n",
    "    b = float(input())\n",
    "    if op == '+':\n",
    "        return (a + b)\n",
    "    elif op == '-':\n",
    "        return (a - b)\n",
    "    elif op == '/':\n",
    "        return (a / b)\n",
    "    elif op == '*':\n",
    "        return (a * b)\n",
    "\n",
    "print(calculator())\n"
   ]
  },
  {
   "cell_type": "code",
   "execution_count": 2,
   "metadata": {},
   "outputs": [
    {
     "name": "stdout",
     "output_type": "stream",
     "text": [
      "I lveprgrmmngo oai\n"
     ]
    }
   ],
   "source": [
    "#task 14\n",
    "\n",
    "def sen_pos(sen,pos):\n",
    "  s = ''\n",
    "  sn = ''\n",
    "  for i in range(len(sen)):\n",
    "    if i == 0:\n",
    "      s += sen[i]\n",
    "    elif (i % pos == 0):\n",
    "      sn += sen[i]\n",
    "    else:\n",
    "      s += sen[i]\n",
    "  return f\"{s+sn}\"\n",
    "\n",
    "print(sen_pos(\"I love programming\",3))"
   ]
  },
  {
   "cell_type": "code",
   "execution_count": 4,
   "metadata": {},
   "outputs": [
    {
     "name": "stdout",
     "output_type": "stream",
     "text": [
      "790\n"
     ]
    }
   ],
   "source": [
    "#task 15\n",
    "\n",
    "def pos(order_items,location = \"Dhanmondi\"):\n",
    "  if location == \"Dhanmondi\":\n",
    "    price = 30\n",
    "  else:\n",
    "    price = 70\n",
    "  for i in order_items:\n",
    "    if i == 'Rice':\n",
    "      price += 105\n",
    "    elif i == 'Potato':\n",
    "      price += 20\n",
    "    elif i == 'Chicken':\n",
    "      price += 250\n",
    "    elif i == 'Beef':\n",
    "      price += 510\n",
    "    elif i == 'Oil':\n",
    "      price += 85\n",
    "\n",
    "  return price\n",
    "\n",
    "print(pos(['Rice','Beef','Rice'], \"Mohakhali\"))\n"
   ]
  },
  {
   "cell_type": "code",
   "execution_count": 24,
   "metadata": {},
   "outputs": [
    {
     "name": "stdout",
     "output_type": "stream",
     "text": [
      "500 Taka: 2 note(s)\n",
      "100 Taka: 2 note(s)\n",
      "20 Taka: 1 note(s)\n",
      "10 Taka: 1 note(s)\n",
      "2 Taka: 2 note(s)\n",
      "\n"
     ]
    }
   ],
   "source": [
    "#task 16\n",
    "\n",
    "#ungraded starts from here\n",
    "\n",
    "def splitting_money(amount):\n",
    "    am = amount\n",
    "    notes = [500,100,50,20,10,5,2]\n",
    "    txt = \"\"\n",
    "    dict = {}\n",
    "\n",
    "    for note in notes:\n",
    "        if am % note != am:\n",
    "            note_num= am // note\n",
    "            am = am % note\n",
    "            dict[note] = note_num\n",
    "    for key,val in dict.items():\n",
    "        txt += f\"{key} Taka: {val} note(s)\\n\"\n",
    "    print(txt)\n",
    "\n",
    "    \n",
    "splitting_money(1234)"
   ]
  },
  {
   "cell_type": "code",
   "execution_count": 3,
   "metadata": {},
   "outputs": [
    {
     "data": {
      "text/plain": [
       "[44, 66, 88, 10]"
      ]
     },
     "execution_count": 3,
     "metadata": {},
     "output_type": "execute_result"
    }
   ],
   "source": [
    "#task 17\n",
    "\n",
    "def remove_odd(lst):\n",
    "    new_lst = []\n",
    "    for num in lst:\n",
    "        if num % 2 == 0:\n",
    "            new_lst += [num]\n",
    "    return new_lst\n",
    "\n",
    "remove_odd([11,2,3,4,5,2,0,5,3])"
   ]
  },
  {
   "cell_type": "code",
   "execution_count": 13,
   "metadata": {},
   "outputs": [
    {
     "name": "stdout",
     "output_type": "stream",
     "text": [
      "210\n",
      "2012\n"
     ]
    }
   ],
   "source": [
    "#task 18\n",
    "\n",
    "def divisibility(start,end,div_1,div_2):\n",
    "    total = 0\n",
    "    for num in range(start,end):\n",
    "        if (num%div_1== 0 or num%div_2==0):\n",
    "            if (num%div_1== 0 and num%div_2== 0) == False:\n",
    "                total += num\n",
    "    print(total)\n",
    "\n",
    "\n",
    "start = int(input(\"enter starting value\"))\n",
    "end= int(input(\"enter ending value\"))\n",
    "div_1 = int(input(\"First divisor\"))\n",
    "div_2 = int(input(\"Second divisor\"))\n",
    "\n",
    "divisibility(start,end,div_1,div_2)\n"
   ]
  },
  {
   "cell_type": "code",
   "execution_count": 26,
   "metadata": {},
   "outputs": [
    {
     "name": "stdout",
     "output_type": "stream",
     "text": [
      "PSG will win the Champion League this season\n",
      "PSG will win the Champion League this season\n",
      "PSG will win the Champion League this season\n",
      "PSG will win the Champion League this season\n",
      "PSG will win the Champion League this season\n"
     ]
    }
   ],
   "source": [
    "#task 19\n",
    "\n",
    "def aj_checker(txt):\n",
    "    a_j = \"abcdefghij\"\n",
    "    counter = 0\n",
    "    all_present = False\n",
    "    times = 0\n",
    "    for letter in a_j:\n",
    "        if letter in txt:\n",
    "            counter += 1\n",
    "    if counter == len(a_j):\n",
    "        all_present = True\n",
    "    \n",
    "    if all_present == True:\n",
    "        times = 5\n",
    "    else:\n",
    "        times = 6\n",
    "    \n",
    "    for _ in range(times):\n",
    "        print(\"PSG will win the Champion League this season\")\n",
    "\n",
    "\n",
    "txt = input(\"enter the text\")\n",
    "\n",
    "aj_checker(txt)\n"
   ]
  },
  {
   "cell_type": "code",
   "execution_count": null,
   "metadata": {},
   "outputs": [],
   "source": []
  },
  {
   "cell_type": "code",
   "execution_count": 13,
   "metadata": {},
   "outputs": [
    {
     "name": "stdout",
     "output_type": "stream",
     "text": [
      "Neymar earned a bonus of 2110000 for 35 goals\n"
     ]
    }
   ],
   "source": [
    "#task 20\n",
    "\n",
    "def individul_bonus_calculation(name,earning,score,percentage):\n",
    "    extra = 0\n",
    "\n",
    "    if 20<=score<=30:\n",
    "        extra = 5000\n",
    "    elif score>30:\n",
    "        extra = 10000\n",
    "    \n",
    "    bonus = score * (percentage/100 * earning) + extra\n",
    "\n",
    "    print(f\"{name} earned a bonus of {int(bonus)} for {score} goals\")\n",
    "\n",
    "individul_bonus_calculation(\"Neymar\", 1200000, 35, 5)\n"
   ]
  },
  {
   "cell_type": "code",
   "execution_count": 15,
   "metadata": {},
   "outputs": [
    {
     "name": "stdout",
     "output_type": "stream",
     "text": [
      "Neymar earned a bonus of 2110000 for 35 goals\n",
      "Jamal earned a bonus of 1064000 for 19 goals\n",
      "Luis earned a bonus of 205000 for 25 goals\n"
     ]
    }
   ],
   "source": [
    "#task 21\n",
    "\n",
    "def individul_bonus_calculation(name,earning,score,percentage):\n",
    "    extra = 0\n",
    "\n",
    "    if 20<=score<=30:\n",
    "        extra = 5000\n",
    "    elif score>30:\n",
    "        extra = 10000\n",
    "    \n",
    "    bonus = score * (percentage/100 * earning) + extra\n",
    "\n",
    "    print(f\"{name} earned a bonus of {int(bonus)} for {score} goals\")\n",
    "\n",
    "\n",
    "def cal_bonus(*players):\n",
    "    times = int(len(players)/4)\n",
    "    start = 0\n",
    "    end = 4\n",
    "    for _ in range(times):\n",
    "        lst = list(players[start:end])\n",
    "        individul_bonus_calculation(lst[0],lst[1],lst[2],lst[3])\n",
    "        start = end\n",
    "        end += 4\n",
    "\n",
    "cal_bonus(\"Neymar\", 1200000, 35, 5, 'Jamal', 700000, 19, 8, 'Luis', 80000, 25, 10)"
   ]
  },
  {
   "cell_type": "markdown",
   "metadata": {},
   "source": []
  }
 ],
 "metadata": {
  "kernelspec": {
   "display_name": "Python 3",
   "language": "python",
   "name": "python3"
  },
  "language_info": {
   "codemirror_mode": {
    "name": "ipython",
    "version": 3
   },
   "file_extension": ".py",
   "mimetype": "text/x-python",
   "name": "python",
   "nbconvert_exporter": "python",
   "pygments_lexer": "ipython3",
   "version": "3.11.4"
  },
  "orig_nbformat": 4
 },
 "nbformat": 4,
 "nbformat_minor": 2
}
