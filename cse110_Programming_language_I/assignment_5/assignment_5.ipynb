{
 "cells": [
  {
   "cell_type": "code",
   "execution_count": 1,
   "metadata": {},
   "outputs": [
    {
     "name": "stdout",
     "output_type": "stream",
     "text": [
      "Number is the list [3]\n",
      "Number is the list [3, 5]\n",
      "Number is the list [3, 5, 34]\n",
      "Number is the list [3, 5, 34, -11]\n",
      "Number is the list [3, 5, 34, -11, 0]\n"
     ]
    }
   ],
   "source": [
    "#task 1\n",
    "\n",
    "lst = []\n",
    "\n",
    "for turn in range(5):\n",
    "    element = int(input(\"enter the numb you want to get in list\"))\n",
    "    lst += [element]\n",
    "    print(f\"Number is the list {lst}\")\n",
    "\n",
    "\n"
   ]
  },
  {
   "cell_type": "code",
   "execution_count": 8,
   "metadata": {},
   "outputs": [
    {
     "name": "stdout",
     "output_type": "stream",
     "text": [
      "[24]\n"
     ]
    }
   ],
   "source": [
    "#task 2\n",
    "\n",
    "txt = input(\"enter the string\").split(\", \")\n",
    "lst = []\n",
    "new_lst = []\n",
    "if (len(txt)) >3:\n",
    "    for element in txt:\n",
    "        lst += [int(element)]\n",
    "    print(lst[2:-2])\n",
    "else:\n",
    "    print(\"Not possible\")"
   ]
  },
  {
   "cell_type": "code",
   "execution_count": 13,
   "metadata": {},
   "outputs": [
    {
     "name": "stdout",
     "output_type": "stream",
     "text": [
      "Printing values from the list in reverse order: \n",
      "0\n",
      "1\n",
      "100\n",
      "-5\n",
      "5\n"
     ]
    }
   ],
   "source": [
    "#task 3\n",
    "\n",
    "lst = []\n",
    "\n",
    "for turn in  range(5):\n",
    "    num = int(input(\"enter number in the list\"))\n",
    "    lst += [num]\n",
    "lst = lst[::-1]\n",
    "\n",
    "print(\"Printing values from the list in reverse order: \")\n",
    "\n",
    "for element in lst:\n",
    "    print(element)\n"
   ]
  },
  {
   "cell_type": "code",
   "execution_count": 19,
   "metadata": {},
   "outputs": [
    {
     "name": "stdout",
     "output_type": "stream",
     "text": [
      "[1, 4, 9, 16, 25, 36, 49]\n"
     ]
    }
   ],
   "source": [
    "#task 4\n",
    "\n",
    "lst = [1, 2, 3, 4, 5, 6, 7] \n",
    "new_lst = []\n",
    "\n",
    "for num in lst:\n",
    "    new_lst += [num ** 2]\n",
    "    \n",
    "print(new_lst)"
   ]
  },
  {
   "cell_type": "code",
   "execution_count": 20,
   "metadata": {},
   "outputs": [
    {
     "name": "stdout",
     "output_type": "stream",
     "text": [
      "Original List: ['hey', 'there', '', \"what's\", '', 'up', '', '?']\n",
      "Modified List: ['hey', 'there', \"what's\", 'up', '?']\n"
     ]
    }
   ],
   "source": [
    "#task 5\n",
    "\n",
    "lst = [\"hey\", \"there\", \"\", \"what's\", \"\", \"up\", \"\", \"?\"] \n",
    "new_lst = []\n",
    "\n",
    "for element in lst:\n",
    "    if element == \"\":\n",
    "        pass\n",
    "    else:\n",
    "        new_lst += [element]\n",
    "\n",
    "print(f\"Original List: {lst}\\nModified List: {new_lst}\")"
   ]
  },
  {
   "cell_type": "code",
   "execution_count": 28,
   "metadata": {},
   "outputs": [
    {
     "name": "stdout",
     "output_type": "stream",
     "text": [
      "My list: [7, 13, 2, 10, 6, -11, 0]\n",
      "Largest number in the list is 13 which was found at index 1\n"
     ]
    }
   ],
   "source": [
    "#task 6\n",
    "\n",
    "lst = input(\"enter the string\")\n",
    "new_lst = []\n",
    "\n",
    "for element in lst.split(\", \"):\n",
    "    new_lst += [int(element)]\n",
    "\n",
    "max = new_lst[0]\n",
    "max_i = 0\n",
    "for i in range(7):\n",
    "    if new_lst[i] > max:\n",
    "        max = new_lst[i]\n",
    "        max_i = i\n",
    "\n",
    "print(f\"My list: {new_lst}\\nLargest number in the list is {max} which was found at index {max_i}\")\n"
   ]
  },
  {
   "cell_type": "code",
   "execution_count": 2,
   "metadata": {},
   "outputs": [
    {
     "name": "stdout",
     "output_type": "stream",
     "text": [
      "[1, 3, 5, 7, 9, 2, 4, 6, 8]\n"
     ]
    }
   ],
   "source": [
    "#task 7\n",
    "\n",
    "lst_1 = [1, 3, 5, 7, 9, 10]\n",
    "lst_2 = [2, 4, 6, 8]\n",
    "new_lst = []\n",
    "\n",
    "lst_1[-1] = lst_2[0]\n",
    "new_lst += lst_1\n",
    "new_lst += lst_2[1:]\n",
    "\n",
    "print(new_lst)"
   ]
  },
  {
   "cell_type": "code",
   "execution_count": 3,
   "metadata": {},
   "outputs": [
    {
     "name": "stdout",
     "output_type": "stream",
     "text": [
      "Output from the above list: [2, 4, 6, 8, 10, 12, -14, -16]\n"
     ]
    }
   ],
   "source": [
    "#task 8\n",
    "\n",
    "lst_1 = [1, 2, 3, 4, 5, 6, 7, 8, 9] \n",
    "lst_2 = [10, 11, 12, -13, -14, -15, -16] \n",
    "\n",
    "new_lst = []\n",
    "lst_1 += lst_2\n",
    "\n",
    "for element in lst_1:\n",
    "    if element%2 == 0:\n",
    "        new_lst += [element]\n",
    "print(f\"Output from the above list: {new_lst}\")"
   ]
  },
  {
   "cell_type": "code",
   "execution_count": 4,
   "metadata": {},
   "outputs": [
    {
     "name": "stdout",
     "output_type": "stream",
     "text": [
      "Original list: [7, 12, 4, 55, 96, 2, 11, 61, 33, 42]\n",
      "Modified list: [7, 55, 11, 61, 33]\n"
     ]
    }
   ],
   "source": [
    "#task 9\n",
    "\n",
    "txt = input(\"enter the string\")\n",
    "temp_lst = []\n",
    "lst = []\n",
    "mod_lst = []\n",
    "\n",
    "start = 0\n",
    "end = 0\n",
    "pointer = 0\n",
    "\n",
    "for i in range(len(txt)):\n",
    "    if txt[i] == \" \":\n",
    "        temp_lst += [i]\n",
    "\n",
    "while(True):\n",
    "    if start == temp_lst[-1]:\n",
    "       lst += [int(txt[start:])] \n",
    "       break\n",
    "    elif end == 0:\n",
    "        end = temp_lst[0]\n",
    "    else:\n",
    "        lst += [int(txt[start:end])]\n",
    "        start = end\n",
    "        if end == temp_lst[-1]:\n",
    "            pass\n",
    "        else:\n",
    "            end = temp_lst[pointer + 1]\n",
    "        pointer += 1\n",
    "\n",
    "for num in lst:\n",
    "    if num%2 != 0:\n",
    "        mod_lst += [num]\n",
    "\n",
    "print(f\"Original list: {lst}\")\n",
    "print(f\"Modified list: {mod_lst}\")\n",
    "\n",
    "        \n"
   ]
  },
  {
   "cell_type": "code",
   "execution_count": 3,
   "metadata": {},
   "outputs": [
    {
     "name": "stdout",
     "output_type": "stream",
     "text": [
      "Input list: [7, 7, 7, 1, 0, 3, 3, 55, 9]\n",
      "Modified list: [7, 1, 0, 3, 55, 9]\n"
     ]
    }
   ],
   "source": [
    "#task 10\n",
    "\n",
    "txt = input(\"enter the string\").split(\", \")\n",
    "lst = []\n",
    "mod_lst = []\n",
    "\n",
    "for char in txt:\n",
    "    lst += [int(char)]\n",
    "\n",
    "for num in lst:\n",
    "    if num in mod_lst:\n",
    "        pass\n",
    "    else:\n",
    "        mod_lst += [num]\n",
    "\n",
    "print(f\"Input list: {lst}\")\n",
    "print(f\"Modified list: {mod_lst}\")"
   ]
  },
  {
   "cell_type": "code",
   "execution_count": 5,
   "metadata": {},
   "outputs": [
    {
     "name": "stdout",
     "output_type": "stream",
     "text": [
      "False\n"
     ]
    }
   ],
   "source": [
    "#task 11\n",
    "\n",
    "List_one = [1, 4, 3, 2, 5]\n",
    "List_two = [8, 7, 6, 9]\n",
    "common = 0\n",
    "\n",
    "for num in List_one:\n",
    "    if num in List_two:\n",
    "        common += 1\n",
    "\n",
    "if common >= 1:\n",
    "    print(True)    \n",
    "else:\n",
    "    print(False)\n",
    "\n"
   ]
  },
  {
   "cell_type": "code",
   "execution_count": 7,
   "metadata": {},
   "outputs": [
    {
     "name": "stdout",
     "output_type": "stream",
     "text": [
      "My list: [7, 13, 2, 10, 6, -11, 0]\n",
      "Second largest number in the list is 7 which was found at index 2\n"
     ]
    }
   ],
   "source": [
    "#task 16\n",
    "\n",
    "lst = [7, 13, 2, 10, 6, -11, 0]\n",
    "highest = lst[0]\n",
    "second_highest = 0\n",
    "index = 0\n",
    "\n",
    "for i in range(len(lst)):\n",
    "    if lst[i] > highest:\n",
    "        second_highest = highest\n",
    "        high = lst[i]\n",
    "        index = i-1\n",
    "\n",
    "print(f\"My list: {lst}\")\n",
    "print(f\"Second largest number in the list is {second_highest} which was found at index {index}\")\n",
    "\n",
    "\n",
    "        "
   ]
  }
 ],
 "metadata": {
  "kernelspec": {
   "display_name": "Python 3",
   "language": "python",
   "name": "python3"
  },
  "language_info": {
   "codemirror_mode": {
    "name": "ipython",
    "version": 3
   },
   "file_extension": ".py",
   "mimetype": "text/x-python",
   "name": "python",
   "nbconvert_exporter": "python",
   "pygments_lexer": "ipython3",
   "version": "3.11.4"
  },
  "orig_nbformat": 4
 },
 "nbformat": 4,
 "nbformat_minor": 2
}
