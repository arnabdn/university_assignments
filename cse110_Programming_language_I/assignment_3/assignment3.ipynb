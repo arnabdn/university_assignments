{
 "cells": [
  {
   "cell_type": "code",
   "execution_count": 1,
   "metadata": {},
   "outputs": [
    {
     "name": "stdout",
     "output_type": "stream",
     "text": [
      "24, 18, 12, 6, 0, -6"
     ]
    }
   ],
   "source": [
    "#task 1 (a)\n",
    "\n",
    "counter = 24\n",
    "\n",
    "while counter >= -6:\n",
    "    if counter == -6:\n",
    "        print(counter, end = \"\")\n",
    "    else:\n",
    "        print(counter, end = \", \")\n",
    "    counter -= 6\n"
   ]
  },
  {
   "cell_type": "code",
   "execution_count": 3,
   "metadata": {},
   "outputs": [
    {
     "name": "stdout",
     "output_type": "stream",
     "text": [
      "-10, -5, 0, 5, 10, 15, 20"
     ]
    }
   ],
   "source": [
    "#task 1(b)\n",
    "\n",
    "counter = -10 \n",
    "\n",
    "while counter <= 20:\n",
    "    if counter == 20:\n",
    "        print(counter, end = \"\")\n",
    "    else:\n",
    "        print(counter, end = \", \")\n",
    "    counter += 5 \n"
   ]
  },
  {
   "cell_type": "code",
   "execution_count": 4,
   "metadata": {},
   "outputs": [
    {
     "name": "stdout",
     "output_type": "stream",
     "text": [
      "18, 27, 36, 45, 54, 63"
     ]
    }
   ],
   "source": [
    "#task 1(c)\n",
    "\n",
    "counter = 18\n",
    "\n",
    "while counter <= 63:\n",
    "    if counter == 63:\n",
    "        print(counter, end = \"\")\n",
    "    else:\n",
    "        print(counter, end = \", \")\n",
    "    counter += 9 \n"
   ]
  },
  {
   "cell_type": "code",
   "execution_count": 6,
   "metadata": {},
   "outputs": [
    {
     "name": "stdout",
     "output_type": "stream",
     "text": [
      "18, -27, 36, -45, 54, -63"
     ]
    }
   ],
   "source": [
    "#task 1 (d)\n",
    "\n",
    "counter = 18\n",
    "evod = 0\n",
    "\n",
    "while counter <= 63:\n",
    "    if counter == 63:\n",
    "        if evod%2 == 0:\n",
    "            print(counter, end = \"\")\n",
    "        else:\n",
    "            print(f\"-{counter}\",end=\"\")\n",
    "    else:\n",
    "         if evod%2 == 0:\n",
    "            print(counter, end = \", \")\n",
    "         else:\n",
    "            print(f\"-{counter}\",end=\", \")\n",
    "    counter += 9 \n",
    "    evod += 1"
   ]
  },
  {
   "cell_type": "code",
   "execution_count": 9,
   "metadata": {},
   "outputs": [
    {
     "name": "stdout",
     "output_type": "stream",
     "text": [
      "toyota\n",
      "toyota\n"
     ]
    }
   ],
   "source": [
    "#task 2\n",
    "\n",
    "name = input(\"enter the name you want to repeat\")\n",
    "repeat = int(input(\"how many times?\"))\n",
    "\n",
    "for i in range(repeat):\n",
    "    print(name)"
   ]
  },
  {
   "cell_type": "code",
   "execution_count": 10,
   "metadata": {},
   "outputs": [
    {
     "name": "stdout",
     "output_type": "stream",
     "text": [
      "2835\n"
     ]
    }
   ],
   "source": [
    "#task 3\n",
    "\n",
    "num = 0\n",
    "total = 0\n",
    "\n",
    "while num <= 600:\n",
    "    if num%7 == 0 and num%9 == 0:\n",
    "        total += num\n",
    "    num += 1\n",
    "\n",
    "print(total)\n",
    "\n"
   ]
  },
  {
   "cell_type": "code",
   "execution_count": 11,
   "metadata": {},
   "outputs": [
    {
     "name": "stdout",
     "output_type": "stream",
     "text": [
      "11 13 15 17 19 21 23 25 27 29 31 33 35 37 39 41 43 45 47 49 "
     ]
    }
   ],
   "source": [
    "#task 5\n",
    "\n",
    "num = 10\n",
    "\n",
    "while num <= 50:\n",
    "    if num%2 != 0:\n",
    "        print(num, end = \" \")\n",
    "    num += 1\n"
   ]
  },
  {
   "cell_type": "code",
   "execution_count": 14,
   "metadata": {},
   "outputs": [
    {
     "name": "stdout",
     "output_type": "stream",
     "text": [
      "15\n"
     ]
    }
   ],
   "source": [
    "#task 6\n",
    "\n",
    "n = int(input(\"enter the number\"))\n",
    "pointer = 0\n",
    "total = 0\n",
    "\n",
    "while pointer <= n:\n",
    "    if pointer%2 != 0:\n",
    "        total += pointer ** 2\n",
    "    else:\n",
    "        total -= pointer ** 2\n",
    "    pointer += 1\n",
    "\n",
    "print(total)\n"
   ]
  },
  {
   "cell_type": "code",
   "execution_count": 17,
   "metadata": {},
   "outputs": [
    {
     "name": "stdout",
     "output_type": "stream",
     "text": [
      "The total of the odd numbers is 90 and their average is 22.5\n"
     ]
    }
   ],
   "source": [
    "#task 7\n",
    "\n",
    "odd_count = 0\n",
    "total = 0\n",
    "\n",
    "for i in range(10):\n",
    "    ask = int(input(\"whats the number?\"))\n",
    "    if ask%2 != 0:\n",
    "        total += ask\n",
    "        odd_count += 1\n",
    "\n",
    "print(f\"The total of the odd numbers is {total} and their average is {total/odd_count}\")"
   ]
  },
  {
   "cell_type": "code",
   "execution_count": 19,
   "metadata": {},
   "outputs": [
    {
     "name": "stdout",
     "output_type": "stream",
     "text": [
      "385\n"
     ]
    }
   ],
   "source": [
    "#task 8\n",
    "\n",
    "N = int(input(\"enter number N\"))\n",
    "total = 0\n",
    "\n",
    "for i in range(N+1):\n",
    "    if i%7 == 0:\n",
    "        total += i\n",
    "\n",
    "print(total)"
   ]
  },
  {
   "cell_type": "code",
   "execution_count": 29,
   "metadata": {},
   "outputs": [
    {
     "name": "stdout",
     "output_type": "stream",
     "text": [
      "11\n",
      "-18\n",
      "-21\n",
      "26\n",
      "76\n"
     ]
    }
   ],
   "source": [
    "#task 9\n",
    "\n",
    "total = 0\n",
    "\n",
    "for num in range(5):\n",
    "    inp = int(input(\"enter the number u want to add\"))\n",
    "    if num == 0:\n",
    "        print(inp)\n",
    "        total += inp\n",
    "    else:\n",
    "        total += inp\n",
    "        print(total)"
   ]
  },
  {
   "cell_type": "code",
   "execution_count": 44,
   "metadata": {},
   "outputs": [
    {
     "name": "stdout",
     "output_type": "stream",
     "text": [
      "8\n",
      "6\n",
      "7\n",
      "2\n",
      "3\n"
     ]
    }
   ],
   "source": [
    "#task 10\n",
    "\n",
    "inp = int(input(\"enter the number\"))\n",
    "inp_len = len(str(inp))\n",
    "for i in range(1,inp_len + 1):\n",
    "    print(inp% 10)\n",
    "    inp = inp//10\n"
   ]
  },
  {
   "cell_type": "code",
   "execution_count": 4,
   "metadata": {},
   "outputs": [
    {
     "name": "stdout",
     "output_type": "stream",
     "text": [
      "7\n"
     ]
    }
   ],
   "source": [
    "#task 11\n",
    "\n",
    "num = int(input(\"enter the number\"))\n",
    "digits = 0\n",
    "\n",
    "while num != 0:\n",
    "    num = num // 10\n",
    "    digits += 1\n",
    "\n",
    "print(digits)\n"
   ]
  },
  {
   "cell_type": "code",
   "execution_count": 13,
   "metadata": {},
   "outputs": [
    {
     "name": "stdout",
     "output_type": "stream",
     "text": [
      "32768\n",
      "3\n",
      "2\n",
      "7\n",
      "6\n",
      "8\n"
     ]
    }
   ],
   "source": [
    "#task 12\n",
    "\n",
    "num = int(input(\"enter the number\"))\n",
    "print(num)\n",
    "len_num = len(str(num))\n",
    "\n",
    "for i in range(len_num):\n",
    "    left = num // 10 ** (len_num - 1)\n",
    "    print(left)\n",
    "    num = num % (10 ** (len_num - 1))\n",
    "    len_num -= 1\n"
   ]
  },
  {
   "cell_type": "code",
   "execution_count": 20,
   "metadata": {},
   "outputs": [
    {
     "name": "stdout",
     "output_type": "stream",
     "text": [
      "1\n",
      "2\n",
      "3\n",
      "6\n",
      "total 4 divisors.\n"
     ]
    }
   ],
   "source": [
    "#task 13\n",
    "\n",
    "num = int(input(\"enter the number\"))\n",
    "count = 0\n",
    "\n",
    "for i in range(1,num + 1):\n",
    "    if num%i == 0:\n",
    "        print(i)\n",
    "        count += 1\n",
    "\n",
    "print(f\"total {count} divisors.\")"
   ]
  },
  {
   "cell_type": "code",
   "execution_count": 31,
   "metadata": {},
   "outputs": [
    {
     "name": "stdout",
     "output_type": "stream",
     "text": [
      "33 is not a perfect number\n"
     ]
    }
   ],
   "source": [
    "#task 14\n",
    "\n",
    "num = int(input(\"enter the number\"))\n",
    "total = 0\n",
    "\n",
    "for i in range(1,num) :\n",
    "    if num%i == 0:\n",
    "        total += i\n",
    "        \n",
    "if num == total:\n",
    "    print(f\"{num} is a perfect number\")\n",
    "else:\n",
    "    print(f\"{num} is not a perfect number\")\n"
   ]
  },
  {
   "cell_type": "code",
   "execution_count": 61,
   "metadata": {},
   "outputs": [],
   "source": [
    "#task 15\n",
    "\"\"\"\n",
    "yes yes yes i did this. i could just count number of divisors and decide if it's a prime\n",
    "but i felt like tinkering with while lopp to have fun (and make it more complicated)\n",
    "\"\"\"\n",
    "\n",
    "num = int(input(\"enter the number\"))\n",
    "i = 1\n",
    "while i <= num:\n",
    "    if num % i == 0:\n",
    "        if (i == 1) or (i == num):\n",
    "            pass\n",
    "        else:\n",
    "            print(f\"{num} is not a prime number\")\n",
    "            break\n",
    "    if i == num - 1:\n",
    "        print(f\"{num} is a prime number\")\n",
    "    i += 1\n"
   ]
  },
  {
   "cell_type": "code",
   "execution_count": 1,
   "metadata": {},
   "outputs": [
    {
     "name": "stdout",
     "output_type": "stream",
     "text": [
      "Maximum 10\n",
      "Minimum -100\n",
      "Average-17.2\n"
     ]
    }
   ],
   "source": [
    "#task 16\n",
    "\n",
    "qty = int(input(\"enter quantity\"))\n",
    "max = -999999999999\n",
    "min = 999999999999\n",
    "total = 0\n",
    "\n",
    "for turns in range(qty):\n",
    "    num = int(input(\"enter number\"))\n",
    "    total += num\n",
    "    if num > max:\n",
    "        max = num\n",
    "    if num < min:\n",
    "        min = num\n",
    "\n",
    "print(f\"Maximum {max}\\nMinimum {min}\\nAverage{total/qty}\")\n"
   ]
  },
  {
   "cell_type": "code",
   "execution_count": 7,
   "metadata": {},
   "outputs": [
    {
     "name": "stdout",
     "output_type": "stream",
     "text": [
      "++++++++++++\n",
      "++++++++++++\n",
      "++++++++++++\n",
      "++++++++++++\n",
      "++++++++++++\n",
      "++++++++++++\n",
      "++++++++++++\n",
      "++++++++++++\n",
      "++++++++++++\n",
      "++++++++++++\n",
      "++++++++++++\n",
      "++++++++++++\n"
     ]
    }
   ],
   "source": [
    "#task 17\n",
    "\n",
    "N = int(input(\"enter N\"))\n",
    "\n",
    "for colum in range(N):\n",
    "    for row in range(N):\n",
    "        print(\"+\", end = \"\")\n",
    "    print()"
   ]
  },
  {
   "cell_type": "code",
   "execution_count": 12,
   "metadata": {},
   "outputs": [
    {
     "name": "stdout",
     "output_type": "stream",
     "text": [
      "123456\n",
      "123456\n",
      "123456\n",
      "123456\n"
     ]
    }
   ],
   "source": [
    "#task 18\n",
    "\n",
    "M = int(input(\"enter M\"))\n",
    "N = int(input(\"enter N\"))\n",
    "\n",
    "for colum in range(M):\n",
    "    for row in range(1,N+1):\n",
    "        print(row, end = \"\")\n",
    "    print()"
   ]
  },
  {
   "cell_type": "code",
   "execution_count": 20,
   "metadata": {},
   "outputs": [
    {
     "name": "stdout",
     "output_type": "stream",
     "text": [
      "1\n",
      "12\n",
      "123\n",
      "1234\n",
      "12345\n",
      "123456\n",
      "1234567\n",
      "12345678\n",
      "123456789\n",
      "12345678910\n",
      "1234567891011\n",
      "123456789101112\n"
     ]
    }
   ],
   "source": [
    "#task 19\n",
    "\n",
    "N = int(input('enter N'))\n",
    "\n",
    "for column in range(1,N + 1):\n",
    "    for row in range(1,column + 1):\n",
    "        print(row, end = \"\")\n",
    "    print()"
   ]
  },
  {
   "cell_type": "code",
   "execution_count": 23,
   "metadata": {},
   "outputs": [
    {
     "name": "stdout",
     "output_type": "stream",
     "text": [
      "0 1 1 2 3 5 8 "
     ]
    }
   ],
   "source": [
    "#20 --> 24 tracing. 25 and onwards ungraded questions\n",
    "\n",
    "#task 25\n",
    "\n",
    "N = int(input(\"enter range for fibonacci\")) \n",
    "\n",
    "seq = [0,1]\n",
    "\n",
    "while seq[-2] + seq[-1] <=N:\n",
    "    third = seq[-2] + seq[-1]\n",
    "    seq += [third]\n",
    "\n",
    "for i in seq:\n",
    "    print(i, end = \" \")\n",
    "\n",
    "\n",
    "\n",
    "\n"
   ]
  },
  {
   "cell_type": "code",
   "execution_count": 29,
   "metadata": {},
   "outputs": [
    {
     "name": "stdout",
     "output_type": "stream",
     "text": [
      "1011"
     ]
    }
   ],
   "source": [
    "#task 26\n",
    "\n",
    "num = int(input(\"enter the number\"))\n",
    "\n",
    "while num >= 1:\n",
    "    bin_digit = num%2\n",
    "    print(bin_digit, end=\"\")\n",
    "    num = num // 2"
   ]
  },
  {
   "cell_type": "code",
   "execution_count": 7,
   "metadata": {},
   "outputs": [
    {
     "name": "stdout",
     "output_type": "stream",
     "text": [
      "29\n"
     ]
    }
   ],
   "source": [
    "#task 27\n",
    "\n",
    "bin_num = input(\"enter the number\")\n",
    "dec_num = 0\n",
    "i = 0\n",
    "\n",
    "for weight in range(len(bin_num)-1,-1,-1):\n",
    "    dec_num += (int(bin_num[i]) * (2 ** weight))\n",
    "    i += 1\n",
    "    \n",
    "print(dec_num)\n",
    "\n",
    "\n",
    "\n"
   ]
  },
  {
   "cell_type": "code",
   "execution_count": 10,
   "metadata": {},
   "outputs": [
    {
     "name": "stdout",
     "output_type": "stream",
     "text": [
      "Between 2 and 6,\n",
      "Found 3 prime numbers\n",
      "Found 1 number\n",
      "Prime numbers: 2, 3, 5\n",
      "Perfect number: 6\n"
     ]
    }
   ],
   "source": [
    "#task 28\n",
    "\n",
    "M = int(input(\"enter first number\"))\n",
    "N = int(input(\"enter last number\"))\n",
    "\n",
    "prime_count = 0\n",
    "perfect_count = 0\n",
    "\n",
    "prime_str = \"\"\n",
    "perfect_str = \"\"\n",
    "\n",
    "for num in range(M,N + 1):\n",
    "    count = 0\n",
    "    for i in range(1,num + 1):\n",
    "        if num%i == 0:\n",
    "            count += 1\n",
    "    if count == 2:\n",
    "        prime_str += f\"{num}, \"\n",
    "        prime_count += 1\n",
    "    count = 0\n",
    "    total = 0\n",
    "    for i in range(1,num):\n",
    "        if num%i == 0:\n",
    "            total += i\n",
    "    if total == num:\n",
    "        perfect_str += f\"{num}, \"\n",
    "        perfect_count += 1\n",
    "\n",
    "print(f\"Between {M} and {N},\")\n",
    "\n",
    "\n",
    "if prime_count != 1:\n",
    "    print(f\"Found {prime_count} prime numbers\")\n",
    "else:\n",
    "    print(f\"Found {prime_count} prime number\")\n",
    "\n",
    "if perfect_count != 1:\n",
    "    print(f\"Found {perfect_count} perfect numbers\")\n",
    "else:\n",
    "    print(f\"Found {perfect_count} perfect number\")\n",
    "\n",
    "print(f\"Prime numbers: {prime_str[:-2]}\")\n",
    "print(f\"Perfect number: {perfect_str[:-2]}\")\n"
   ]
  },
  {
   "cell_type": "code",
   "execution_count": 18,
   "metadata": {},
   "outputs": [
    {
     "name": "stdout",
     "output_type": "stream",
     "text": [
      "45 90 "
     ]
    }
   ],
   "source": [
    "#task 29\n",
    "\n",
    "num1 = int(input(\"enter first number: \" ))\n",
    "num2 = int(input(\"enter last number: \"))\n",
    "num3 = int(input(\"enter the third number\"))\n",
    "product = []\n",
    "total = 1\n",
    "for num in range(num1, num2 + 1):\n",
    "    for turn in range(len(str(num))):\n",
    "        total *= int(str(num)[turn])\n",
    "    product += [total]\n",
    "    total = 1\n",
    "for num in product:\n",
    "    if num%num3 == 0:\n",
    "        print(num, end=\" \")\n",
    "\n"
   ]
  },
  {
   "cell_type": "code",
   "execution_count": null,
   "metadata": {},
   "outputs": [],
   "source": []
  }
 ],
 "metadata": {
  "kernelspec": {
   "display_name": "Python 3",
   "language": "python",
   "name": "python3"
  },
  "language_info": {
   "codemirror_mode": {
    "name": "ipython",
    "version": 3
   },
   "file_extension": ".py",
   "mimetype": "text/x-python",
   "name": "python",
   "nbconvert_exporter": "python",
   "pygments_lexer": "ipython3",
   "version": "3.11.4"
  },
  "orig_nbformat": 4
 },
 "nbformat": 4,
 "nbformat_minor": 2
}
