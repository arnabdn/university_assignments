{
 "cells": [
  {
   "cell_type": "code",
   "execution_count": 1,
   "metadata": {},
   "outputs": [
    {
     "name": "stdout",
     "output_type": "stream",
     "text": [
      "400\n"
     ]
    }
   ],
   "source": [
    "#task 1\n",
    "\n",
    "a_tuple = (\"The Institute\", (\"Best Mystery & Thriller\", \"The Silent Patient\", 68821), 75717, \n",
    "[1, 2, 3, 400, 5, 6, 7], (\"Best Fiction\", \"The Testaments\", 98291)) \n",
    "\n",
    "print(a_tuple[3][3])"
   ]
  },
  {
   "cell_type": "code",
   "execution_count": 3,
   "metadata": {},
   "outputs": [
    {
     "name": "stdout",
     "output_type": "stream",
     "text": [
      "(24, 25, 26)\n"
     ]
    }
   ],
   "source": [
    "#task 2\n",
    "\n",
    "tup = (10, 20, 24, 25, 26, 35, 70) \n",
    "\n",
    "tup_lst = list(tup)\n",
    "\n",
    "print(tuple(tup_lst[2:-2]))"
   ]
  },
  {
   "cell_type": "code",
   "execution_count": null,
   "metadata": {},
   "outputs": [],
   "source": [
    "#task 3\n",
    "\n",
    "book_info = (\n",
    "(\"Best Mystery & Thriller\",\"The Silent Patient\",68,821),\n",
    "(\"Best Horror\",\"The Institute\",75,717),\n",
    "(\"Best History & Biography\",\"The five\",31,783 ),\n",
    "(\"Best Fiction\",\"The Testaments\",98,291)\n",
    ")\n",
    "\n",
    "print(f\"size of this tuple is: {len(book_info)}\")\n",
    "\n",
    "for i in book_info:\n",
    "  print(i)\n",
    "\n"
   ]
  },
  {
   "cell_type": "code",
   "execution_count": 4,
   "metadata": {},
   "outputs": [
    {
     "name": "stdout",
     "output_type": "stream",
     "text": [
      "The Silent Patient won the 'Best Mystery & Thriller' category with 68821 votes\n",
      "The Institute won the 'Best Horror' category with 75717 votes\n",
      "The five won the 'Best History & Biography' category with 31783 votes\n",
      "The Testaments won the 'Best Fiction' category with 98291 votes\n"
     ]
    }
   ],
   "source": [
    "#task 4\n",
    "\n",
    "\n",
    "book_info = (\n",
    "(\"Best Mystery & Thriller\",\"The Silent Patient\",68821),\n",
    "(\"Best Horror\",\"The Institute\",75717),\n",
    "(\"Best History & Biography\",\"The five\",31783 ),\n",
    "(\"Best Fiction\",\"The Testaments\",98291)\n",
    ") \n",
    "\n",
    "for i in book_info:\n",
    "    print(f\"{i[1]} won the '{i[0]}' category with {i[2]} votes\")"
   ]
  },
  {
   "cell_type": "code",
   "execution_count": 7,
   "metadata": {},
   "outputs": [
    {
     "name": "stdout",
     "output_type": "stream",
     "text": [
      "8 appears 4 times in the tuple\n"
     ]
    }
   ],
   "source": [
    "#task 5\n",
    "\n",
    "tup = (10, 8, 5, 2, 10, 15, 10, 8, 5, 8, 8, 2)\n",
    "\n",
    "l = list(tup)\n",
    "count = 0\n",
    "n = int(input())\n",
    "\n",
    "for i in l:\n",
    "  if n == i:\n",
    "    count += 1\n",
    "\n",
    "print(f\"{n} appears {count} times in the tuple\")\n"
   ]
  },
  {
   "cell_type": "code",
   "execution_count": 10,
   "metadata": {},
   "outputs": [
    {
     "name": "stdout",
     "output_type": "stream",
     "text": [
      "('h', 'g', 'f', 'e', 'd', 'c', 'b', 'a')\n"
     ]
    }
   ],
   "source": [
    "#task 6\n",
    "\n",
    "tup = ('a', 'b', 'c', 'd', 'e', 'f', 'g', 'h') \n",
    "\n",
    "\n",
    "lst = list(tup)\n",
    "new_lst = []\n",
    "\n",
    "for i in lst[ : :-1]:\n",
    "  new_lst += [i]\n",
    "\n",
    "tup2 = tuple(new_lst)\n",
    "print(tup2)"
   ]
  },
  {
   "cell_type": "code",
   "execution_count": 11,
   "metadata": {},
   "outputs": [
    {
     "name": "stdout",
     "output_type": "stream",
     "text": [
      "{'Harry': 15, 'Draco': 8, 'Nevil': 19, 'Ginie': 18, 'Luna': 14}\n"
     ]
    }
   ],
   "source": [
    "#task 7\n",
    "\n",
    "dic1 = {'Harry':15, 'Draco':8, 'Nevil':19} \n",
    "dic2 = {'Ginie':18, 'Luna': 14}\n",
    "marks = {**dic1, **dic2}\n",
    "\n",
    "print(marks)"
   ]
  },
  {
   "cell_type": "code",
   "execution_count": 18,
   "metadata": {},
   "outputs": [
    {
     "name": "stdout",
     "output_type": "stream",
     "text": [
      "Average is 110\n"
     ]
    }
   ],
   "source": [
    "#task 8\n",
    "\n",
    "txt = input(\"enter the string\").strip(\"{}\").split(\", \")\n",
    "dic = {}\n",
    "total = 0\n",
    "times = 0\n",
    "\n",
    "for record in txt:\n",
    "    temp_lst = record.split(\":\")\n",
    "    dic[temp_lst[0]] = int(temp_lst[1])\n",
    "\n",
    "for value in dic.values():\n",
    "    total += value\n",
    "    times += 1\n",
    "\n",
    "print(f\"Average is {int(total/times)}\")"
   ]
  },
  {
   "cell_type": "code",
   "execution_count": 19,
   "metadata": {},
   "outputs": [
    {
     "name": "stdout",
     "output_type": "stream",
     "text": [
      "{'Cierra Vega': 175, 'Alden Cantrell': 200, 'Pierre Cox': 190}\n"
     ]
    }
   ],
   "source": [
    "#task 9\n",
    "\n",
    "exam_marks = {'Cierra Vega': 175, 'Alden Cantrell': 200, 'Kierra Gentry': 165, 'Pierre Cox': 190}\n",
    "higher_marks = {}\n",
    "num = int(input())\n",
    "\n",
    "for name,marks in exam_marks.items():\n",
    "  if marks>num:\n",
    "    higher_marks[name] = marks\n",
    "\n",
    "print(higher_marks)   \n"
   ]
  },
  {
   "cell_type": "code",
   "execution_count": 20,
   "metadata": {},
   "outputs": [
    {
     "name": "stdout",
     "output_type": "stream",
     "text": [
      "The highest selling book genre is 'horror'and the number of books sold are 14.\n"
     ]
    }
   ],
   "source": [
    "#task 10\n",
    "\n",
    "dic = {'sci fi': 5, 'mystery': 3, 'horror': 14, 'young_adult': 2, 'adventure':9}\n",
    "\n",
    "max = dic['sci fi']\n",
    "gen = ''\n",
    "for genre,sold in dic.items():\n",
    "  if sold > max:\n",
    "    max = sold \n",
    "    gen = genre \n",
    "\n",
    "print(f\"The highest selling book genre is '{gen}'and the number of books sold are {max}.\")"
   ]
  },
  {
   "cell_type": "code",
   "execution_count": 21,
   "metadata": {},
   "outputs": [
    {
     "name": "stdout",
     "output_type": "stream",
     "text": [
      "{'p': 2, 'y': 1, 't': 1, 'h': 1, 'o': 2, 'n': 3, 'r': 2, 'g': 2, 'a': 1, 'm': 2, 'i': 2, 's': 1, 'f': 1, 'u': 1}\n"
     ]
    }
   ],
   "source": [
    "#task 11\n",
    "\n",
    "txt = input()\n",
    "count = {}\n",
    "for char in txt:\n",
    "  if char == ' ':\n",
    "    continue\n",
    "  if 65<=ord(char)<=95:\n",
    "    ascii = ord(char) + 32\n",
    "    char = chr(ascii)\n",
    "  if char not in count.keys():\n",
    "    count[char] = 1\n",
    "  else:\n",
    "    count[char] += 1\n",
    "    \n",
    "print(count)"
   ]
  },
  {
   "cell_type": "code",
   "execution_count": 1,
   "metadata": {},
   "outputs": [
    {
     "name": "stdout",
     "output_type": "stream",
     "text": [
      "9\n"
     ]
    }
   ],
   "source": [
    "#task 12\n",
    "\n",
    "dict_1 = {'A': [1, 2, 3], 'b': ['1', '2'], \"c\": [4, 5, 6, 7]}\n",
    "num = 0\n",
    "\n",
    "for i in dict_1:\n",
    "    for j in dict_1[i]:\n",
    "        num += 1\n",
    "\n",
    "print(num)\n",
    "\n"
   ]
  },
  {
   "cell_type": "code",
   "execution_count": 4,
   "metadata": {},
   "outputs": [
    {
     "name": "stdout",
     "output_type": "stream",
     "text": [
      "{'a': [1, 3, 2], 'b': [2, 1], 'c': [1]}\n"
     ]
    }
   ],
   "source": [
    "#task 13\n",
    "\n",
    "list_1 = [(\"a\", 1), (\"b\", 2), (\"a\", 3), (\"b\", 1), (\"a\", 2), (\"c\", 1)]\n",
    "dic = {}\n",
    "\n",
    "for i in range(len(list_1)):\n",
    "    if list_1[i][0] in dic:\n",
    "        dic[list_1[i][0]] += [list_1[i][1]]\n",
    "    else:\n",
    "        dic[list_1[i][0]] = [list_1[i][1]]\n",
    "\n",
    "print(dic)\n",
    "\n"
   ]
  }
 ],
 "metadata": {
  "kernelspec": {
   "display_name": "Python 3",
   "language": "python",
   "name": "python3"
  },
  "language_info": {
   "codemirror_mode": {
    "name": "ipython",
    "version": 3
   },
   "file_extension": ".py",
   "mimetype": "text/x-python",
   "name": "python",
   "nbconvert_exporter": "python",
   "pygments_lexer": "ipython3",
   "version": "3.11.4"
  },
  "orig_nbformat": 4
 },
 "nbformat": 4,
 "nbformat_minor": 2
}
