{
 "cells": [
  {
   "cell_type": "code",
   "execution_count": 7,
   "metadata": {},
   "outputs": [
    {
     "name": "stdout",
     "output_type": "stream",
     "text": [
      "011ESC\n"
     ]
    }
   ],
   "source": [
    "#task 1\n",
    "\n",
    "inp = input(\"enter the string\")\n",
    "\n",
    "print(inp[::-1])\n",
    "\n"
   ]
  },
  {
   "cell_type": "code",
   "execution_count": 12,
   "metadata": {},
   "outputs": [
    {
     "name": "stdout",
     "output_type": "stream",
     "text": [
      "32145\n"
     ]
    }
   ],
   "source": [
    "#task 2\n",
    "\n",
    "inp = input(\"enter the string\")\n",
    "ind = int(input(\"enter the index\"))\n",
    "\n",
    "print(f\"{inp[ind::-1]}{inp[ind+1:]}\")"
   ]
  },
  {
   "cell_type": "code",
   "execution_count": 23,
   "metadata": {},
   "outputs": [
    {
     "name": "stdout",
     "output_type": "stream",
     "text": [
      "Not a Binary Number\n"
     ]
    }
   ],
   "source": [
    "#task 3\n",
    "\n",
    "inp = input(\"enter the string\")\n",
    "binary = True\n",
    "\n",
    "for number in inp:\n",
    "    if number != \"0\" and number != \"1\":\n",
    "        binary = False\n",
    "\n",
    "if binary == False:\n",
    "    print(\"Not a Binary Number\")\n",
    "else:\n",
    "    print(\"Binary number\")"
   ]
  },
  {
   "cell_type": "code",
   "execution_count": 37,
   "metadata": {},
   "outputs": [
    {
     "name": "stdout",
     "output_type": "stream",
     "text": [
      "strongest\n"
     ]
    }
   ],
   "source": [
    "#task 4\n",
    "\n",
    "inp = input(\"enter the string\")\n",
    "\n",
    "if len(inp) < 4:\n",
    "    print(inp)\n",
    "elif len(inp) > 3:\n",
    "    if inp[-3:] == \"est\":\n",
    "        print(inp)\n",
    "    elif inp[-2:] == \"er\":\n",
    "        print(f\"{inp[:-2]}est\")\n",
    "    else:\n",
    "        print(f\"{inp}er\")"
   ]
  },
  {
   "cell_type": "code",
   "execution_count": 40,
   "metadata": {},
   "outputs": [
    {
     "name": "stdout",
     "output_type": "stream",
     "text": [
      "D\n",
      "DR\n",
      "DRE\n",
      "DREA\n",
      "DREAM\n"
     ]
    }
   ],
   "source": [
    "#task 5\n",
    "\n",
    "inp = input(\"enter the string\")\n",
    "\n",
    "for i in range(len(inp)):\n",
    "    print(inp[:i + 1])\n",
    "\n"
   ]
  },
  {
   "cell_type": "code",
   "execution_count": 43,
   "metadata": {},
   "outputs": [
    {
     "name": "stdout",
     "output_type": "stream",
     "text": [
      "P : 80\n",
      "r : 114\n",
      "o : 111\n",
      "g : 103\n",
      "r : 114\n",
      "a : 97\n",
      "m : 109\n",
      "m : 109\n",
      "i : 105\n",
      "n : 110\n",
      "g : 103\n"
     ]
    }
   ],
   "source": [
    "#task 6\n",
    "\n",
    "txt = input(\"enter the string\")\n",
    "\n",
    "for char in txt:\n",
    "    print(f\"{char} : {ord(char)}\")"
   ]
  },
  {
   "cell_type": "code",
   "execution_count": 49,
   "metadata": {},
   "outputs": [
    {
     "name": "stdout",
     "output_type": "stream",
     "text": [
      "yzabcd"
     ]
    }
   ],
   "source": [
    "#task 7\n",
    "\n",
    "txt = input(\"enter the string\")\n",
    "\n",
    "for char in txt:\n",
    "    asc = ord(char)\n",
    "    if asc == 122:\n",
    "        print(\"a\", end = \"\")\n",
    "    else:\n",
    "        print(chr(asc + 1), end = \"\")"
   ]
  },
  {
   "cell_type": "code",
   "execution_count": 52,
   "metadata": {},
   "outputs": [
    {
     "name": "stdout",
     "output_type": "stream",
     "text": [
      "BD"
     ]
    }
   ],
   "source": [
    "#task 8\n",
    "\n",
    "txt = input(\"enter the string\")\n",
    "\n",
    "for i in range(len(txt)):\n",
    "    if i%2 != 0:\n",
    "        print(chr(ord(txt[i]) - 32), end = \"\")"
   ]
  },
  {
   "cell_type": "code",
   "execution_count": 5,
   "metadata": {},
   "outputs": [
    {
     "name": "stdout",
     "output_type": "stream",
     "text": [
      "Jupyter Notebok is beter. Case sensitivity check AaAaAa. \n"
     ]
    }
   ],
   "source": [
    "#task 9\n",
    "\n",
    "txt = input(\"enter string\").split(\" \")\n",
    "new_text = \"\"\n",
    "\n",
    "for word in txt:\n",
    "    temp_word = word[0]\n",
    "    for char in word:\n",
    "        if char == temp_word[-1]:\n",
    "            pass\n",
    "        else:\n",
    "            temp_word += f\"{char}\"\n",
    "    new_text += f\"{temp_word} \"\n",
    "\n",
    "print(new_text)\n"
   ]
  },
  {
   "cell_type": "code",
   "execution_count": 9,
   "metadata": {},
   "outputs": [
    {
     "name": "stdout",
     "output_type": "stream",
     "text": [
      "iAjBkClDENDFGH\n"
     ]
    }
   ],
   "source": [
    "#task 10\n",
    "\n",
    "txt = input(\"enter the string with proper formatting\").split(\", \")\n",
    "new_txt = \"\"\n",
    "i = 0\n",
    "\n",
    "\n",
    "\n",
    "for char1 in txt[0]:\n",
    "    if i <= (len(txt[1]) - 1):\n",
    "        new_txt += f\"{char1}{txt[1][i]}\"\n",
    "        i += 1\n",
    "\n",
    "if len(txt[0]) < len(txt[1]):\n",
    "    new_txt += f\"{txt[1][i:]}\"\n",
    "else:\n",
    "    new_txt += f\"{txt[0][i:]}\" \n",
    "\n",
    "\n",
    "print(new_txt)"
   ]
  },
  {
   "cell_type": "code",
   "execution_count": 9,
   "metadata": {},
   "outputs": [
    {
     "name": "stdout",
     "output_type": "stream",
     "text": [
      "ren yeage\n",
      "\n"
     ]
    }
   ],
   "source": [
    "#task 16\n",
    "\n",
    "#task 10 --> 15 tracing problems.16 marks the beginning of ungraded problems\n",
    "\n",
    "txt = input(\"enter the string\")\n",
    "char = input(\"enter the char\")\n",
    "\n",
    "new_txt = \"\"\n",
    "\n",
    "if len(txt) <3:\n",
    "    print(txt)\n",
    "elif char in txt:\n",
    "    for letter in txt:\n",
    "        if letter == char:\n",
    "            pass\n",
    "        else:\n",
    "            new_txt += f\"{letter}\"\n",
    "else:\n",
    "    print(txt[1:-1])\n",
    "\n",
    "print(new_txt)\n",
    "\n",
    "    \n",
    "    "
   ]
  },
  {
   "cell_type": "code",
   "execution_count": 1,
   "metadata": {},
   "outputs": [
    {
     "name": "stdout",
     "output_type": "stream",
     "text": [
      "tom@gmail\n",
      "harry@yahoo\n",
      "bob@gmail\n",
      "mary@gmail\n"
     ]
    }
   ],
   "source": [
    "#task 17\n",
    "\n",
    "txt = input(\"enter the string\")\n",
    "temp_word = \"\"\n",
    "spl_char = input(\"input the split character\")\n",
    "\n",
    "for char in txt:\n",
    "    if char == spl_char:\n",
    "        print(temp_word)\n",
    "        temp_word = \"\"\n",
    "    else:\n",
    "        temp_word += f\"{char}\"\n",
    "print(temp_word)       \n"
   ]
  },
  {
   "cell_type": "code",
   "execution_count": 10,
   "metadata": {},
   "outputs": [
    {
     "name": "stdout",
     "output_type": "stream",
     "text": [
      "CSE110CSE110CSE110CSE110CSE110CSE110CSE110CSE110CSE110\n"
     ]
    }
   ],
   "source": [
    "#task 18\n",
    "\n",
    "txt = input(\"enter the string\")\n",
    "num = int(input(\"enter the number\"))\n",
    "\n",
    "if num%2 == 0:\n",
    "    times = num * 2\n",
    "    print(f\"{txt * times}\")\n",
    "else:\n",
    "    times = num * 3\n",
    "    print(f\"{txt * times}\")"
   ]
  }
 ],
 "metadata": {
  "kernelspec": {
   "display_name": "Python 3",
   "language": "python",
   "name": "python3"
  },
  "language_info": {
   "codemirror_mode": {
    "name": "ipython",
    "version": 3
   },
   "file_extension": ".py",
   "mimetype": "text/x-python",
   "name": "python",
   "nbconvert_exporter": "python",
   "pygments_lexer": "ipython3",
   "version": "3.11.4"
  },
  "orig_nbformat": 4
 },
 "nbformat": 4,
 "nbformat_minor": 2
}
