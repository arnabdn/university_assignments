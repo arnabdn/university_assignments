{
 "cells": [
  {
   "cell_type": "code",
   "execution_count": 3,
   "metadata": {},
   "outputs": [
    {
     "name": "stdout",
     "output_type": "stream",
     "text": [
      "Sum=32\n",
      "Product=60\n",
      "difference=28\n"
     ]
    }
   ],
   "source": [
    "#task 1\n",
    "\n",
    "n1 = int(input(\"enter number 1\"))\n",
    "n2 = int(input(\"enter number 2\"))\n",
    "\n",
    "print(f\"Sum={n1 + n2}\")\n",
    "print(f\"Product={n1 * n2}\")\n",
    "print(f\"difference={n1 - n2}\")\n",
    "\n"
   ]
  },
  {
   "cell_type": "code",
   "execution_count": 5,
   "metadata": {},
   "outputs": [
    {
     "name": "stdout",
     "output_type": "stream",
     "text": [
      "Area is 50.26548245743669\n",
      "Circumference is 25.132741228718345\n"
     ]
    }
   ],
   "source": [
    "#task 2\n",
    "\n",
    "import math\n",
    "\n",
    "rad = int(input(\"enter radius\"))\n",
    "\n",
    "print(f\"Area is {math.pi * rad **2}\")\n",
    "print(f\"Circumference is {2 * math.pi * rad}\")"
   ]
  },
  {
   "cell_type": "code",
   "execution_count": 12,
   "metadata": {},
   "outputs": [
    {
     "name": "stdout",
     "output_type": "stream",
     "text": [
      "The numbers are equal\n"
     ]
    }
   ],
   "source": [
    "#task 3\n",
    "\n",
    "num1 = int(input(\"enter number 1\"))\n",
    "num2 = int(input(\"enter number 2\"))\n",
    "\n",
    "if num1 > num2:\n",
    "    print(\"First is greater\")\n",
    "elif num2 > num1:\n",
    "    print(\"Second is greater\")\n",
    "else:\n",
    "    print(\"The numbers are equal\")"
   ]
  },
  {
   "cell_type": "code",
   "execution_count": 3,
   "metadata": {},
   "outputs": [
    {
     "name": "stdout",
     "output_type": "stream",
     "text": [
      "0\n"
     ]
    }
   ],
   "source": [
    "#task 4\n",
    "\n",
    "num1 = int(input(\"enter number 1\"))\n",
    "num2 = int(input(\"enter number 2\"))\n",
    "\n",
    "smol = 0\n",
    "big = 0\n",
    "\n",
    "if num1 > num2:\n",
    "    big = num1\n",
    "    smol = num2\n",
    "elif num2 > num1:\n",
    "    big = num2\n",
    "    smol = num1\n",
    "else:\n",
    "    pass\n",
    "\n",
    "\n",
    "print(big - smol)"
   ]
  },
  {
   "cell_type": "code",
   "execution_count": 5,
   "metadata": {},
   "outputs": [
    {
     "name": "stdout",
     "output_type": "stream",
     "text": [
      "The numbe is even\n"
     ]
    }
   ],
   "source": [
    "#task 5\n",
    "\n",
    "num = int(input(\"enter number\"))\n",
    "\n",
    "if num%2 != 0:\n",
    "    print(\"The number is odd\")\n",
    "else:\n",
    "    print(\"The number\")"
   ]
  },
  {
   "cell_type": "code",
   "execution_count": 4,
   "metadata": {},
   "outputs": [
    {
     "name": "stdout",
     "output_type": "stream",
     "text": [
      "Not a multiple of 2 or 5\n"
     ]
    }
   ],
   "source": [
    "#task 6\n",
    "\n",
    "num = int(input(\"enter number\"))\n",
    "\n",
    "if num%2 == 0 or num%5 == 0:\n",
    "    print(num)\n",
    "else:\n",
    "    print(\"Not a multiple of 2 or 5\")"
   ]
  },
  {
   "cell_type": "code",
   "execution_count": 4,
   "metadata": {},
   "outputs": [
    {
     "name": "stdout",
     "output_type": "stream",
     "text": [
      "Not a number we want\n"
     ]
    }
   ],
   "source": [
    "#task 7\n",
    "\n",
    "num = int(input(\"enter number\"))\n",
    "\n",
    "if num%2 == 0 or num %5 == 0:\n",
    "    if num%2 ==0 and num%5 ==0:\n",
    "        print(\"Multiple of 2 and 5 both\")\n",
    "    else:\n",
    "        print(num)\n",
    "else:\n",
    "    print(\"Not a number we want\")\n",
    "    "
   ]
  },
  {
   "cell_type": "code",
   "execution_count": 5,
   "metadata": {},
   "outputs": [
    {
     "name": "stdout",
     "output_type": "stream",
     "text": [
      "Not a multiple of 2 and 5 both\n"
     ]
    }
   ],
   "source": [
    "#task 8\n",
    "\n",
    "num = int(input(\"enter a number\"))\n",
    "\n",
    "if num%2 == 0 and num%5 == 0:\n",
    "    print(num)\n",
    "elif num%2 == 0 or num%5 == 0:\n",
    "    print(\"Not a multiple of 2 and 5 both\")\n",
    "else:\n",
    "    print(\"not a multiple of erither 2 or 5\")"
   ]
  },
  {
   "cell_type": "code",
   "execution_count": 9,
   "metadata": {},
   "outputs": [
    {
     "name": "stdout",
     "output_type": "stream",
     "text": [
      "Hours: 0 Minutes: 8 Seconds: 20\n"
     ]
    }
   ],
   "source": [
    "#task 9\n",
    "\n",
    "seconds = int(input(\"enter seconds\"))\n",
    "hours = seconds//3600\n",
    "minutes = (seconds % 3600) // 60\n",
    "seconds = (seconds%3600) % 60\n",
    "\n",
    "print(f\"Hours: {hours} Minutes: {minutes} Seconds: {seconds}\")"
   ]
  },
  {
   "cell_type": "code",
   "execution_count": 17,
   "metadata": {},
   "outputs": [
    {
     "name": "stdout",
     "output_type": "stream",
     "text": [
      "Hours cannot be negative\n"
     ]
    }
   ],
   "source": [
    "#task 10\n",
    "\n",
    "workh = int(input(\"enter hours spent working\"))\n",
    "salary = 0\n",
    "\n",
    "if 0 <= workh <= 40:\n",
    "    salary = workh * 200\n",
    "    print(salary)\n",
    "elif workh > 40:\n",
    "    salary = 8000 + (workh - 40) * 300\n",
    "    print(salary)\n",
    "elif workh < 0:\n",
    "    print(\"Hours cannot be negative\")\n",
    "    \n"
   ]
  },
  {
   "cell_type": "code",
   "execution_count": 27,
   "metadata": {},
   "outputs": [
    {
     "name": "stdout",
     "output_type": "stream",
     "text": [
      "2416.2162162162163\n"
     ]
    }
   ],
   "source": [
    "#task 11\n",
    "\n",
    "S = int(input(\"enter value of S\"))\n",
    "\n",
    "if S < 100:\n",
    "    print(3000 - 125*(S**2))\n",
    "elif S >= 100:\n",
    "    print(12000/(4 + (S**2)/14900))"
   ]
  },
  {
   "cell_type": "code",
   "execution_count": 30,
   "metadata": {},
   "outputs": [
    {
     "name": "stdout",
     "output_type": "stream",
     "text": [
      "Wrong time\n"
     ]
    }
   ],
   "source": [
    "#task 12\n",
    "\n",
    "time = int(input(\"enter time\"))\n",
    "\n",
    "if 0<=time<=23:\n",
    "    if 4<=time<=6:\n",
    "        print(\"Breakfast\")\n",
    "    elif 12<=time<=13:\n",
    "        print(\"Lunch\")\n",
    "    elif 16<=time<=17:\n",
    "        print(\"Snacks\")\n",
    "    elif 19<=time<=20:\n",
    "        print(\"Dinner\")\n",
    "    else:\n",
    "        print(\"Patience is a virtue\")\n",
    "else:\n",
    "    print(\"Wrong time\")\n",
    "\n",
    "    "
   ]
  },
  {
   "cell_type": "code",
   "execution_count": 4,
   "metadata": {},
   "outputs": [
    {
     "name": "stdout",
     "output_type": "stream",
     "text": [
      "A\n"
     ]
    }
   ],
   "source": [
    "#task 13\n",
    "\n",
    "marks = int(input(\"enter marks\"))\n",
    "\n",
    "if 0<=marks<=100:\n",
    "    if marks<50:\n",
    "        print(\"F\")\n",
    "    elif 50<=marks<=59:\n",
    "        print(\"E\")\n",
    "    elif 60<=marks<=69:\n",
    "        print(\"D\")\n",
    "    elif 70<=marks<=79:\n",
    "        print(\"C\")\n",
    "    elif 80<=marks<=89:\n",
    "        print(\"B\")\n",
    "    elif marks>=90:\n",
    "        print(\"A\")\n",
    "else:\n",
    "    print(\"invalid marks\")"
   ]
  },
  {
   "cell_type": "code",
   "execution_count": 9,
   "metadata": {},
   "outputs": [
    {
     "name": "stdout",
     "output_type": "stream",
     "text": [
      "25.4 km/h\n",
      "Too slow. Needs more changes\n"
     ]
    }
   ],
   "source": [
    "#task 14\n",
    "\n",
    "distance = (int(input(\"enter distance in meters\")))/1000\n",
    "time = int(input(\"enter time in seconds\"))/3600\n",
    "vel = distance/time\n",
    "\n",
    "print(f\"{vel} km/h\")\n",
    "\n",
    "if vel<60:\n",
    "    print(\"Too slow. Needs more changes\")\n",
    "elif 60<=vel<=90:\n",
    "    print(\"Velocity is okay. The car is ready\")\n",
    "elif vel>90:\n",
    "    print(\"Too fast. Only a few changes should suffice\")\n"
   ]
  },
  {
   "cell_type": "code",
   "execution_count": 14,
   "metadata": {},
   "outputs": [
    {
     "name": "stdout",
     "output_type": "stream",
     "text": [
      "The student is not eligible for a waiver\n"
     ]
    }
   ],
   "source": [
    "#task 15\n",
    "\n",
    "cgpa = float(input(\"enter your cgpa\"))\n",
    "creds = int(input(\"enter your credits completed\"))\n",
    "waiver = 0\n",
    "if creds >= 30:\n",
    "    if 3.80<=cgpa<=3.89:\n",
    "        waiver = 25\n",
    "    elif 3.90<=cgpa<=3.94:\n",
    "        waiver = 50\n",
    "    elif 3.95<=cgpa<=3.99:\n",
    "        waiver = 75\n",
    "    elif cgpa == 4.00:\n",
    "        waiver = 100\n",
    "    print(f\"The student is eligible for a waiver of {waiver} percent\")\n",
    "else:\n",
    "    print(\"The student is not eligible for a waiver\")\n",
    "        "
   ]
  },
  {
   "cell_type": "code",
   "execution_count": 16,
   "metadata": {},
   "outputs": [
    {
     "name": "stdout",
     "output_type": "stream",
     "text": [
      "No\n"
     ]
    }
   ],
   "source": [
    "#16 --> 20 ffull of tracing problems. ungrades problems starts from 21.\n",
    "\n",
    "#task21\n",
    "\n",
    "num = int(input(\"enter number\"))\n",
    "\n",
    "if num%2 == 0 or num%5 == 0:\n",
    "    print(\"No\")\n",
    "else:\n",
    "    print(num)"
   ]
  },
  {
   "cell_type": "code",
   "execution_count": 22,
   "metadata": {},
   "outputs": [
    {
     "name": "stdout",
     "output_type": "stream",
     "text": [
      "Previous total: 1200\n",
      "New total after discount: 1050\n"
     ]
    }
   ],
   "source": [
    "#task 22\n",
    "\n",
    "canvas_amount = int(input(\"enter amount of canvas\"))\n",
    "paint_amount = int(input(\"enter amount of paint\"))\n",
    "total_cost = canvas_amount * 120 + paint_amount * 75\n",
    "discount = 0\n",
    "\n",
    "if 0<=total_cost<=299:\n",
    "    pass\n",
    "elif 300<=total_cost<=499:\n",
    "    discount = 10\n",
    "elif 500<=total_cost<=749:\n",
    "    discount = 20\n",
    "elif 750<=total_cost<=999:\n",
    "    discount = 50\n",
    "elif total_cost >= 1000:\n",
    "    discount = 150\n",
    "\n",
    "discounted_total = total_cost - discount\n",
    "\n",
    "print(f\"Previous total: {total_cost}\")\n",
    "print(f\"New total after discount: {discounted_total}\")"
   ]
  },
  {
   "cell_type": "code",
   "execution_count": 54,
   "metadata": {},
   "outputs": [
    {
     "name": "stdout",
     "output_type": "stream",
     "text": [
      "25.20 degrees C\n",
      "Spring\n"
     ]
    }
   ],
   "source": [
    "#task 23\n",
    "\n",
    "temp_F = int(input(\"enter temperature in Fahrenheit\"))\n",
    "temp_C = (temp_F - 32) * 0.56\n",
    "\n",
    "if str(temp_C)[3:5] == \"00\":\n",
    "    print(f\"{int(temp_C)} degrees C\")\n",
    "    print(\"ayo\")\n",
    "else:\n",
    "    print(f\"{temp_C:.2f} degrees C\")\n",
    "   \n",
    "\n",
    "if temp_C < 20:\n",
    "    print(\"Winter\")\n",
    "elif 20<=temp_C<=25:\n",
    "    print(\"Autumn\")\n",
    "elif 25<temp_C<30:\n",
    "    print(\"Spring\")\n",
    "elif temp_C >= 30:\n",
    "    print(\"Summer\")"
   ]
  },
  {
   "cell_type": "code",
   "execution_count": null,
   "metadata": {},
   "outputs": [],
   "source": []
  },
  {
   "cell_type": "code",
   "execution_count": null,
   "metadata": {},
   "outputs": [],
   "source": []
  },
  {
   "cell_type": "code",
   "execution_count": null,
   "metadata": {},
   "outputs": [],
   "source": []
  },
  {
   "cell_type": "code",
   "execution_count": null,
   "metadata": {},
   "outputs": [],
   "source": []
  }
 ],
 "metadata": {
  "kernelspec": {
   "display_name": "Python 3",
   "language": "python",
   "name": "python3"
  },
  "language_info": {
   "codemirror_mode": {
    "name": "ipython",
    "version": 3
   },
   "file_extension": ".py",
   "mimetype": "text/x-python",
   "name": "python",
   "nbconvert_exporter": "python",
   "pygments_lexer": "ipython3",
   "version": "3.11.4"
  },
  "orig_nbformat": 4
 },
 "nbformat": 4,
 "nbformat_minor": 2
}
